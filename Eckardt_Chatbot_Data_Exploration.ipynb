{
 "cells": [
  {
   "cell_type": "markdown",
   "id": "d6ad9df2",
   "metadata": {},
   "source": [
    "Author: Steve Eckardt \n",
    "Revised: 10/28/22 \n",
    "Description: Analysis and evaluation of charbot data \n",
    "             Open Avenues and Businessolver Internship"
   ]
  },
  {
   "cell_type": "markdown",
   "id": "c0056a0d",
   "metadata": {},
   "source": [
    "This is a summary of this project in the STAR format\n",
    "Situation: I'm participating in an internship where we're studying text sent to and from a chatbot.\n",
    "Task: evaluate chatbot data.\n",
    "Action: I cleaned and analyzed the chatbot data using python, panda and mathlab.\n",
    "Result: determined who was sending Tweets, when they were sending them, and what the Tweets contained."
   ]
  },
  {
   "cell_type": "markdown",
   "id": "815aea5f",
   "metadata": {},
   "source": [
    "The given data set is a CSV file of instant messages sent to and from a chatbot.\n",
    "The first step in exploration is understand and document columns in the data set."
   ]
  },
  {
   "cell_type": "code",
   "execution_count": 2,
   "id": "36cb190f",
   "metadata": {},
   "outputs": [],
   "source": [
    "import pandas as pd\n",
    "import numpy as np\n",
    "twcs_df = pd.read_csv(\"/Users/nepets/chatbot/twcs.csv\")"
   ]
  },
  {
   "cell_type": "code",
   "execution_count": 3,
   "id": "fc9c2c98",
   "metadata": {},
   "outputs": [
    {
     "name": "stdout",
     "output_type": "stream",
     "text": [
      "shape is: (2811774, 7)\n"
     ]
    }
   ],
   "source": [
    "# determine number of columns and rows\n",
    "print('shape is:', twcs_df.shape)"
   ]
  },
  {
   "cell_type": "code",
   "execution_count": 4,
   "id": "34e91a03",
   "metadata": {},
   "outputs": [
    {
     "data": {
      "text/html": [
       "<div>\n",
       "<style scoped>\n",
       "    .dataframe tbody tr th:only-of-type {\n",
       "        vertical-align: middle;\n",
       "    }\n",
       "\n",
       "    .dataframe tbody tr th {\n",
       "        vertical-align: top;\n",
       "    }\n",
       "\n",
       "    .dataframe thead th {\n",
       "        text-align: right;\n",
       "    }\n",
       "</style>\n",
       "<table border=\"1\" class=\"dataframe\">\n",
       "  <thead>\n",
       "    <tr style=\"text-align: right;\">\n",
       "      <th></th>\n",
       "      <th>tweet_id</th>\n",
       "      <th>author_id</th>\n",
       "      <th>inbound</th>\n",
       "      <th>created_at</th>\n",
       "      <th>text</th>\n",
       "      <th>response_tweet_id</th>\n",
       "      <th>in_response_to_tweet_id</th>\n",
       "    </tr>\n",
       "  </thead>\n",
       "  <tbody>\n",
       "    <tr>\n",
       "      <th>0</th>\n",
       "      <td>1</td>\n",
       "      <td>sprintcare</td>\n",
       "      <td>False</td>\n",
       "      <td>Tue Oct 31 22:10:47 +0000 2017</td>\n",
       "      <td>@115712 I understand. I would like to assist y...</td>\n",
       "      <td>2</td>\n",
       "      <td>3.0</td>\n",
       "    </tr>\n",
       "    <tr>\n",
       "      <th>1</th>\n",
       "      <td>2</td>\n",
       "      <td>115712</td>\n",
       "      <td>True</td>\n",
       "      <td>Tue Oct 31 22:11:45 +0000 2017</td>\n",
       "      <td>@sprintcare and how do you propose we do that</td>\n",
       "      <td>NaN</td>\n",
       "      <td>1.0</td>\n",
       "    </tr>\n",
       "    <tr>\n",
       "      <th>2</th>\n",
       "      <td>3</td>\n",
       "      <td>115712</td>\n",
       "      <td>True</td>\n",
       "      <td>Tue Oct 31 22:08:27 +0000 2017</td>\n",
       "      <td>@sprintcare I have sent several private messag...</td>\n",
       "      <td>1</td>\n",
       "      <td>4.0</td>\n",
       "    </tr>\n",
       "    <tr>\n",
       "      <th>3</th>\n",
       "      <td>4</td>\n",
       "      <td>sprintcare</td>\n",
       "      <td>False</td>\n",
       "      <td>Tue Oct 31 21:54:49 +0000 2017</td>\n",
       "      <td>@115712 Please send us a Private Message so th...</td>\n",
       "      <td>3</td>\n",
       "      <td>5.0</td>\n",
       "    </tr>\n",
       "    <tr>\n",
       "      <th>4</th>\n",
       "      <td>5</td>\n",
       "      <td>115712</td>\n",
       "      <td>True</td>\n",
       "      <td>Tue Oct 31 21:49:35 +0000 2017</td>\n",
       "      <td>@sprintcare I did.</td>\n",
       "      <td>4</td>\n",
       "      <td>6.0</td>\n",
       "    </tr>\n",
       "    <tr>\n",
       "      <th>5</th>\n",
       "      <td>6</td>\n",
       "      <td>sprintcare</td>\n",
       "      <td>False</td>\n",
       "      <td>Tue Oct 31 21:46:24 +0000 2017</td>\n",
       "      <td>@115712 Can you please send us a private messa...</td>\n",
       "      <td>5,7</td>\n",
       "      <td>8.0</td>\n",
       "    </tr>\n",
       "    <tr>\n",
       "      <th>6</th>\n",
       "      <td>8</td>\n",
       "      <td>115712</td>\n",
       "      <td>True</td>\n",
       "      <td>Tue Oct 31 21:45:10 +0000 2017</td>\n",
       "      <td>@sprintcare is the worst customer service</td>\n",
       "      <td>9,6,10</td>\n",
       "      <td>NaN</td>\n",
       "    </tr>\n",
       "    <tr>\n",
       "      <th>7</th>\n",
       "      <td>11</td>\n",
       "      <td>sprintcare</td>\n",
       "      <td>False</td>\n",
       "      <td>Tue Oct 31 22:10:35 +0000 2017</td>\n",
       "      <td>@115713 This is saddening to hear. Please shoo...</td>\n",
       "      <td>NaN</td>\n",
       "      <td>12.0</td>\n",
       "    </tr>\n",
       "    <tr>\n",
       "      <th>8</th>\n",
       "      <td>12</td>\n",
       "      <td>115713</td>\n",
       "      <td>True</td>\n",
       "      <td>Tue Oct 31 22:04:47 +0000 2017</td>\n",
       "      <td>@sprintcare You gonna magically change your co...</td>\n",
       "      <td>11,13,14</td>\n",
       "      <td>15.0</td>\n",
       "    </tr>\n",
       "    <tr>\n",
       "      <th>9</th>\n",
       "      <td>15</td>\n",
       "      <td>sprintcare</td>\n",
       "      <td>False</td>\n",
       "      <td>Tue Oct 31 20:03:31 +0000 2017</td>\n",
       "      <td>@115713 We understand your concerns and we'd l...</td>\n",
       "      <td>12</td>\n",
       "      <td>16.0</td>\n",
       "    </tr>\n",
       "  </tbody>\n",
       "</table>\n",
       "</div>"
      ],
      "text/plain": [
       "   tweet_id   author_id  inbound                      created_at  \\\n",
       "0         1  sprintcare    False  Tue Oct 31 22:10:47 +0000 2017   \n",
       "1         2      115712     True  Tue Oct 31 22:11:45 +0000 2017   \n",
       "2         3      115712     True  Tue Oct 31 22:08:27 +0000 2017   \n",
       "3         4  sprintcare    False  Tue Oct 31 21:54:49 +0000 2017   \n",
       "4         5      115712     True  Tue Oct 31 21:49:35 +0000 2017   \n",
       "5         6  sprintcare    False  Tue Oct 31 21:46:24 +0000 2017   \n",
       "6         8      115712     True  Tue Oct 31 21:45:10 +0000 2017   \n",
       "7        11  sprintcare    False  Tue Oct 31 22:10:35 +0000 2017   \n",
       "8        12      115713     True  Tue Oct 31 22:04:47 +0000 2017   \n",
       "9        15  sprintcare    False  Tue Oct 31 20:03:31 +0000 2017   \n",
       "\n",
       "                                                text response_tweet_id  \\\n",
       "0  @115712 I understand. I would like to assist y...                 2   \n",
       "1      @sprintcare and how do you propose we do that               NaN   \n",
       "2  @sprintcare I have sent several private messag...                 1   \n",
       "3  @115712 Please send us a Private Message so th...                 3   \n",
       "4                                 @sprintcare I did.                 4   \n",
       "5  @115712 Can you please send us a private messa...               5,7   \n",
       "6          @sprintcare is the worst customer service            9,6,10   \n",
       "7  @115713 This is saddening to hear. Please shoo...               NaN   \n",
       "8  @sprintcare You gonna magically change your co...          11,13,14   \n",
       "9  @115713 We understand your concerns and we'd l...                12   \n",
       "\n",
       "   in_response_to_tweet_id  \n",
       "0                      3.0  \n",
       "1                      1.0  \n",
       "2                      4.0  \n",
       "3                      5.0  \n",
       "4                      6.0  \n",
       "5                      8.0  \n",
       "6                      NaN  \n",
       "7                     12.0  \n",
       "8                     15.0  \n",
       "9                     16.0  "
      ]
     },
     "execution_count": 4,
     "metadata": {},
     "output_type": "execute_result"
    }
   ],
   "source": [
    "# print the first ten records\n",
    "twcs_df.head(10)"
   ]
  },
  {
   "cell_type": "code",
   "execution_count": 4,
   "id": "57aede41",
   "metadata": {},
   "outputs": [
    {
     "data": {
      "text/plain": [
       "tweet_id                     int64\n",
       "author_id                   object\n",
       "inbound                       bool\n",
       "created_at                  object\n",
       "text                        object\n",
       "response_tweet_id           object\n",
       "in_response_to_tweet_id    float64\n",
       "dtype: object"
      ]
     },
     "execution_count": 4,
     "metadata": {},
     "output_type": "execute_result"
    }
   ],
   "source": [
    "#list the data types\n",
    "twcs_df.dtypes"
   ]
  },
  {
   "cell_type": "markdown",
   "id": "0eab4f32",
   "metadata": {},
   "source": [
    "The data contains about 2.8 million records and seven columns.\n",
    "\n",
    "All listed above as objects are strings.\n",
    "\n",
    "The line number is displayed at the far leftt but it is not in a column. \n",
    "tweet_id is a unique identifier for each record and can be used as a key or index. author_id is address of the person or bot sending the tweet. \n",
    "inbound is a boolean value. If true the message is sent to the bot. If false the message is from the bot. \n",
    "created_at is a string stating the date and time the Tweet was created. \n",
    "text is the Tweet. \n",
    "response_tweet_id is the tweet_id of the original Tweet. \n",
    "in_response_to_tweet_id is the tweet_id of the Tweet that started the conversation."
   ]
  },
  {
   "cell_type": "markdown",
   "id": "8f3b1eea",
   "metadata": {},
   "source": [
    "The following code will clean the data. \n",
    "Comverting the created at time stamp from a string to a datatime object. \n",
    "Clean the text of the Tweet by casting it to lovercase, removing URLs. punctuation, stop words, 10 most common words, 10 rarest words, and emojis. \n",
    "The clean data will be put in two new columns preserving the original sata set."
   ]
  },
  {
   "cell_type": "code",
   "execution_count": 5,
   "id": "20f5361f",
   "metadata": {},
   "outputs": [],
   "source": [
    "# Translate the created_at column from a string to a datetime object in a new column\n",
    "# add a column to put the cleaned text in\n",
    "import datetime\n",
    "twcs_df['created_td'] = pd.to_datetime(twcs_df['created_at'])\n",
    "twcs_df['clean_text'] = 'clean tweet'"
   ]
  },
  {
   "cell_type": "code",
   "execution_count": 6,
   "id": "adc2cffc",
   "metadata": {},
   "outputs": [],
   "source": [
    "# cast the tweet text into lowercase\n",
    "twcs_df['clean_text'] = twcs_df.loc[:,'text'].str.lower()"
   ]
  },
  {
   "cell_type": "code",
   "execution_count": 7,
   "id": "fb9c0c7c",
   "metadata": {},
   "outputs": [],
   "source": [
    "# remove all URLs from text\n",
    "import re\n",
    "twcs_df['clean_text'] = twcs_df['clean_text'].replace(r'http\\S+', '', regex=True).replace(r'www\\S+', '', regex=True)"
   ]
  },
  {
   "cell_type": "code",
   "execution_count": 8,
   "id": "84fe7219",
   "metadata": {},
   "outputs": [
    {
     "name": "stdout",
     "output_type": "stream",
     "text": [
      "!\"#$%&'()*+,-./:;<=>?[\\]^_`{|}~\n"
     ]
    }
   ],
   "source": [
    "# remove punctuation with the exception of the @ symbol\n",
    "import string\n",
    "punctuations = '!\"#$%&\\'()*+,-./:;<=>?[\\]^_`{|}~'\n",
    "print(punctuations)\n",
    "\n",
    "%timeit\n",
    "def remove_punctuations(text):\n",
    "    return text.translate(str.maketrans('','',punctuations))\n",
    "    \n",
    "twcs_df['clean_text'] = twcs_df['clean_text'].apply(lambda text: remove_punctuations(text))"
   ]
  },
  {
   "cell_type": "code",
   "execution_count": 9,
   "id": "5a9c74fc",
   "metadata": {},
   "outputs": [],
   "source": [
    "# import and update Natural Language Toolkit\n",
    "import nltk\n",
    "import ssl\n",
    "\n",
    "try:\n",
    "    _create_unverified_https_context = ssl._create_unverified_context\n",
    "except AttributeError:\n",
    "    pass\n",
    "else:\n",
    "    ssl._create_default_https_context = _create_unverified_https_context\n",
    "\n",
    "# nltk.download()"
   ]
  },
  {
   "cell_type": "code",
   "execution_count": 10,
   "id": "66787c85",
   "metadata": {},
   "outputs": [
    {
     "data": {
      "text/plain": [
       "\"i, me, my, myself, we, our, ours, ourselves, you, you're, you've, you'll, you'd, your, yours, yourself, yourselves, he, him, his, himself, she, she's, her, hers, herself, it, it's, its, itself, they, them, their, theirs, themselves, what, which, who, whom, this, that, that'll, these, those, am, is, are, was, were, be, been, being, have, has, had, having, do, does, did, doing, a, an, the, and, but, if, or, because, as, until, while, of, at, by, for, with, about, against, between, into, through, during, before, after, above, below, to, from, up, down, in, out, on, off, over, under, again, further, then, once, here, there, when, where, why, how, all, any, both, each, few, more, most, other, some, such, no, nor, not, only, own, same, so, than, too, very, s, t, can, will, just, don, don't, should, should've, now, d, ll, m, o, re, ve, y, ain, aren, aren't, couldn, couldn't, didn, didn't, doesn, doesn't, hadn, hadn't, hasn, hasn't, haven, haven't, isn, isn't, ma, mightn, mightn't, mustn, mustn't, needn, needn't, shan, shan't, shouldn, shouldn't, wasn, wasn't, weren, weren't, won, won't, wouldn, wouldn't\""
      ]
     },
     "execution_count": 10,
     "metadata": {},
     "output_type": "execute_result"
    }
   ],
   "source": [
    "# import and list stopwords\n",
    "# nltk.download('stopwords')\n",
    "from nltk.corpus import stopwords\n",
    "', '.join(stopwords.words('english'))"
   ]
  },
  {
   "cell_type": "code",
   "execution_count": 11,
   "id": "78ca867d",
   "metadata": {},
   "outputs": [],
   "source": [
    "# remove the stop words listed above\n",
    "stopwords_set = set(stopwords.words('english'))\n",
    "def remove_stopwords(text):\n",
    "    return ' '.join(words for words in str(text).split() if words not in stopwords_set)\n",
    "    \n",
    "twcs_df['clean_text'] = twcs_df['clean_text'].apply(lambda text: remove_stopwords(text))"
   ]
  },
  {
   "cell_type": "code",
   "execution_count": 12,
   "id": "ebca7767",
   "metadata": {},
   "outputs": [
    {
     "data": {
      "text/plain": [
       "[('us', 451277),\n",
       " ('please', 402715),\n",
       " ('dm', 335422),\n",
       " ('help', 267643),\n",
       " ('hi', 224603),\n",
       " ('thanks', 206452),\n",
       " ('get', 200373),\n",
       " ('sorry', 192246),\n",
       " ('like', 146386),\n",
       " ('know', 145409)]"
      ]
     },
     "execution_count": 12,
     "metadata": {},
     "output_type": "execute_result"
    }
   ],
   "source": [
    "# count frequency of word use\n",
    "from collections import Counter\n",
    "cnt = Counter()\n",
    "\n",
    "for text in twcs_df['clean_text'].values:\n",
    "    for word in text.split():\n",
    "        cnt[word] +=1\n",
    "        \n",
    "cnt.most_common(10)"
   ]
  },
  {
   "cell_type": "code",
   "execution_count": 13,
   "id": "9a3278ec",
   "metadata": {},
   "outputs": [],
   "source": [
    "# remove 10 most common words\n",
    "freq_words = set([w for (w,wc) in cnt.most_common(10)])\n",
    "\n",
    "def remove_freqwords(text):\n",
    "    return ' '.join(word for word in str(text).split() if word not in freq_words)\n",
    "\n",
    "twcs_df['clean_text'] = twcs_df['clean_text'].apply(lambda text:remove_freqwords(text))"
   ]
  },
  {
   "cell_type": "code",
   "execution_count": 14,
   "id": "a051d1ac",
   "metadata": {},
   "outputs": [
    {
     "name": "stdout",
     "output_type": "stream",
     "text": [
      "{'当サイトからそのようなメールをお送りすることはございません。当サイトの名をかたるフィッシング行為が増えているようです。連絡先に電話をしたりしないようお気を付けください。', 'いきなり来たんだけど', '@823867', '@823869', 'notjustxmasallyearround', '@823870', 'なんですかこれ！！？', '@823866', '@823868'}\n"
     ]
    }
   ],
   "source": [
    "# remove 10 rarest words\n",
    "n_rare_words = 10\n",
    "rare_words = set([w for (w,c) in cnt.most_common()][:- n_rare_words: -1])\n",
    "print(rare_words)\n",
    "\n",
    "def remove_rarewords(text):\n",
    "    return ' '.join(word for word in str(text).split() if word not in rare_words)\n",
    "\n",
    "twcs_df['clean_text'] = twcs_df['clean_text'].apply(lambda text:remove_rarewords(text))"
   ]
  },
  {
   "cell_type": "code",
   "execution_count": 15,
   "id": "460eab50",
   "metadata": {},
   "outputs": [],
   "source": [
    "# This will remove all numbers but it would also remove the Tweet IDs\n",
    "# numbers = '0123456789'\n",
    "# %timeit\n",
    "# def remove_numbers(text):\n",
    "#    return text.translate(str.maketrans('','',numbers))\n",
    "    \n",
    "# twcs_df['clean_text'] = twcs_df['clean_text'].apply(lambda text: remove_numbers(text))\n",
    "# twcs_df.head(10)"
   ]
  },
  {
   "cell_type": "code",
   "execution_count": 16,
   "id": "17ae1c98",
   "metadata": {},
   "outputs": [],
   "source": [
    "# remove emoji\n",
    "from cleantext import clean\n",
    "def remove_emoji(text):\n",
    "    return clean(text, no_emoji=True)\n",
    "twcs_df['clean_text'] = twcs_df['clean_text'].apply(lambda text:remove_emoji(text))"
   ]
  },
  {
   "cell_type": "markdown",
   "id": "39d65230",
   "metadata": {},
   "source": [
    "After cleaning the tweet text, I wanted to compare the difference."
   ]
  },
  {
   "cell_type": "code",
   "execution_count": 19,
   "id": "e69b6b63",
   "metadata": {},
   "outputs": [
    {
     "data": {
      "text/html": [
       "<div>\n",
       "<style scoped>\n",
       "    .dataframe tbody tr th:only-of-type {\n",
       "        vertical-align: middle;\n",
       "    }\n",
       "\n",
       "    .dataframe tbody tr th {\n",
       "        vertical-align: top;\n",
       "    }\n",
       "\n",
       "    .dataframe thead th {\n",
       "        text-align: right;\n",
       "    }\n",
       "</style>\n",
       "<table border=\"1\" class=\"dataframe\">\n",
       "  <thead>\n",
       "    <tr style=\"text-align: right;\">\n",
       "      <th></th>\n",
       "      <th>text</th>\n",
       "      <th>clean_text</th>\n",
       "    </tr>\n",
       "  </thead>\n",
       "  <tbody>\n",
       "    <tr>\n",
       "      <th>1</th>\n",
       "      <td>@sprintcare and how do you propose we do that</td>\n",
       "      <td>@sprintcare propose</td>\n",
       "    </tr>\n",
       "    <tr>\n",
       "      <th>2</th>\n",
       "      <td>@sprintcare I have sent several private messag...</td>\n",
       "      <td>@sprintcare sent several private messages one ...</td>\n",
       "    </tr>\n",
       "    <tr>\n",
       "      <th>3</th>\n",
       "      <td>@115712 Please send us a Private Message so th...</td>\n",
       "      <td>@115712 send private message assist click 'mes...</td>\n",
       "    </tr>\n",
       "    <tr>\n",
       "      <th>4</th>\n",
       "      <td>@sprintcare I did.</td>\n",
       "      <td>@sprintcare</td>\n",
       "    </tr>\n",
       "    <tr>\n",
       "      <th>5</th>\n",
       "      <td>@115712 Can you please send us a private messa...</td>\n",
       "      <td>@115712 send private message gain details account</td>\n",
       "    </tr>\n",
       "    <tr>\n",
       "      <th>6</th>\n",
       "      <td>@sprintcare is the worst customer service</td>\n",
       "      <td>@sprintcare worst customer service</td>\n",
       "    </tr>\n",
       "    <tr>\n",
       "      <th>7</th>\n",
       "      <td>@115713 This is saddening to hear. Please shoo...</td>\n",
       "      <td>@115713 saddening hear shoot look kc</td>\n",
       "    </tr>\n",
       "    <tr>\n",
       "      <th>8</th>\n",
       "      <td>@sprintcare You gonna magically change your co...</td>\n",
       "      <td>@sprintcare gonna magically change connectivit...</td>\n",
       "    </tr>\n",
       "    <tr>\n",
       "      <th>9</th>\n",
       "      <td>@115713 We understand your concerns and we'd l...</td>\n",
       "      <td>@115713 understand concerns wed send direct me...</td>\n",
       "    </tr>\n",
       "    <tr>\n",
       "      <th>10</th>\n",
       "      <td>@sprintcare Since I signed up with you....Sinc...</td>\n",
       "      <td>@sprintcare since signed yousince day 1</td>\n",
       "    </tr>\n",
       "    <tr>\n",
       "      <th>11</th>\n",
       "      <td>@115713 H there! We'd definitely like to work ...</td>\n",
       "      <td>@115713 h wed definitely work long experiencin...</td>\n",
       "    </tr>\n",
       "    <tr>\n",
       "      <th>12</th>\n",
       "      <td>@115714 y’all lie about your “great” connectio...</td>\n",
       "      <td>@115714 y'all lie \"great\" connection 5 bars lt...</td>\n",
       "    </tr>\n",
       "    <tr>\n",
       "      <th>13</th>\n",
       "      <td>@115715 Please send me a private message so th...</td>\n",
       "      <td>@115715 send private message send link access ...</td>\n",
       "    </tr>\n",
       "    <tr>\n",
       "      <th>14</th>\n",
       "      <td>@115714 whenever I contact customer support, t...</td>\n",
       "      <td>@115714 whenever contact customer support tell...</td>\n",
       "    </tr>\n",
       "    <tr>\n",
       "      <th>15</th>\n",
       "      <td>@115716 What information is incorrect? ^JK</td>\n",
       "      <td>@115716 information incorrect jk</td>\n",
       "    </tr>\n",
       "    <tr>\n",
       "      <th>16</th>\n",
       "      <td>@Ask_Spectrum Would you like me to email you a...</td>\n",
       "      <td>@askspectrum would email copy one since spectr...</td>\n",
       "    </tr>\n",
       "    <tr>\n",
       "      <th>17</th>\n",
       "      <td>@115716 Our department is part of the corporat...</td>\n",
       "      <td>@115716 department part corporate office youre...</td>\n",
       "    </tr>\n",
       "    <tr>\n",
       "      <th>18</th>\n",
       "      <td>@Ask_Spectrum I received this from your corpor...</td>\n",
       "      <td>@askspectrum received corporate office would copy</td>\n",
       "    </tr>\n",
       "    <tr>\n",
       "      <th>19</th>\n",
       "      <td>@115716 No thank you. ^JK</td>\n",
       "      <td>@115716 thank jk</td>\n",
       "    </tr>\n",
       "    <tr>\n",
       "      <th>20</th>\n",
       "      <td>@Ask_Spectrum The correct way to do it is via ...</td>\n",
       "      <td>@askspectrum correct way via ocs account takeo...</td>\n",
       "    </tr>\n",
       "    <tr>\n",
       "      <th>21</th>\n",
       "      <td>@Ask_Spectrum That is INCORRECT information I ...</td>\n",
       "      <td>@askspectrum incorrect information form front ...</td>\n",
       "    </tr>\n",
       "    <tr>\n",
       "      <th>22</th>\n",
       "      <td>@115716 The information pertaining to the acco...</td>\n",
       "      <td>@115716 information pertaining account assumpt...</td>\n",
       "    </tr>\n",
       "    <tr>\n",
       "      <th>23</th>\n",
       "      <td>actually that's a broken link you sent me and ...</td>\n",
       "      <td>actually thats broken link sent incorrect info...</td>\n",
       "    </tr>\n",
       "    <tr>\n",
       "      <th>24</th>\n",
       "      <td>@115717 Hello, My apologies for any frustratio...</td>\n",
       "      <td>@115717 hello apologies frustrations inconveni...</td>\n",
       "    </tr>\n",
       "    <tr>\n",
       "      <th>25</th>\n",
       "      <td>Yo @Ask_Spectrum, your customer service reps a...</td>\n",
       "      <td>yo @askspectrum customer service reps super ni...</td>\n",
       "    </tr>\n",
       "    <tr>\n",
       "      <th>26</th>\n",
       "      <td>@115718 I apologize for the inconvenience. I w...</td>\n",
       "      <td>@115718 apologize inconvenience glad assist na...</td>\n",
       "    </tr>\n",
       "    <tr>\n",
       "      <th>27</th>\n",
       "      <td>My picture on @Ask_Spectrum pretty much every ...</td>\n",
       "      <td>picture @askspectrum pretty much every day pay...</td>\n",
       "    </tr>\n",
       "    <tr>\n",
       "      <th>28</th>\n",
       "      <td>@115719 Help has arrived! We are sorry to see ...</td>\n",
       "      <td>@115719 arrived see trouble hsb</td>\n",
       "    </tr>\n",
       "    <tr>\n",
       "      <th>29</th>\n",
       "      <td>@VerizonSupport I finally got someone that hel...</td>\n",
       "      <td>@verizonsupport finally got someone helped</td>\n",
       "    </tr>\n",
       "    <tr>\n",
       "      <th>30</th>\n",
       "      <td>@115719 Awesome! If you ever need us we are ju...</td>\n",
       "      <td>@115719 awesome ever need tweet away hsb</td>\n",
       "    </tr>\n",
       "    <tr>\n",
       "      <th>31</th>\n",
       "      <td>somebody from @VerizonSupport please help meee...</td>\n",
       "      <td>somebody @verizonsupport meeeeee im worst luck...</td>\n",
       "    </tr>\n",
       "    <tr>\n",
       "      <th>32</th>\n",
       "      <td>@115720 Have your friend message us.\\n^ACM</td>\n",
       "      <td>@115720 friend message acm</td>\n",
       "    </tr>\n",
       "    <tr>\n",
       "      <th>33</th>\n",
       "      <td>@VerizonSupport My friend is without internet ...</td>\n",
       "      <td>@verizonsupport friend without internet need p...</td>\n",
       "    </tr>\n",
       "    <tr>\n",
       "      <th>34</th>\n",
       "      <td>@115721 Please follow and DM us so that we can...</td>\n",
       "      <td>@115721 follow look order hsb</td>\n",
       "    </tr>\n",
       "    <tr>\n",
       "      <th>35</th>\n",
       "      <td>@VerizonSupport What else can I provide? They ...</td>\n",
       "      <td>@verizonsupport else provide refuse cannot val...</td>\n",
       "    </tr>\n",
       "    <tr>\n",
       "      <th>36</th>\n",
       "      <td>@115721 We would not be able to verify anythin...</td>\n",
       "      <td>@115721 would able verify anything without aut...</td>\n",
       "    </tr>\n",
       "    <tr>\n",
       "      <th>37</th>\n",
       "      <td>@VerizonSupport How? I have my phone number an...</td>\n",
       "      <td>@verizonsupport phone number email thats equip...</td>\n",
       "    </tr>\n",
       "    <tr>\n",
       "      <th>38</th>\n",
       "      <td>@115721 We can use the order number to locate ...</td>\n",
       "      <td>@115721 use order number locate account need s...</td>\n",
       "    </tr>\n",
       "    <tr>\n",
       "      <th>39</th>\n",
       "      <td>@115722 MD. And this was sent to the wrong add...</td>\n",
       "      <td>@115722 md sent wrong address</td>\n",
       "    </tr>\n",
       "    <tr>\n",
       "      <th>40</th>\n",
       "      <td>@115721 Hello Duke, Do you have a copy of your...</td>\n",
       "      <td>@115721 hello duke copy bill state services lo...</td>\n",
       "    </tr>\n",
       "  </tbody>\n",
       "</table>\n",
       "</div>"
      ],
      "text/plain": [
       "                                                 text  \\\n",
       "1       @sprintcare and how do you propose we do that   \n",
       "2   @sprintcare I have sent several private messag...   \n",
       "3   @115712 Please send us a Private Message so th...   \n",
       "4                                  @sprintcare I did.   \n",
       "5   @115712 Can you please send us a private messa...   \n",
       "6           @sprintcare is the worst customer service   \n",
       "7   @115713 This is saddening to hear. Please shoo...   \n",
       "8   @sprintcare You gonna magically change your co...   \n",
       "9   @115713 We understand your concerns and we'd l...   \n",
       "10  @sprintcare Since I signed up with you....Sinc...   \n",
       "11  @115713 H there! We'd definitely like to work ...   \n",
       "12  @115714 y’all lie about your “great” connectio...   \n",
       "13  @115715 Please send me a private message so th...   \n",
       "14  @115714 whenever I contact customer support, t...   \n",
       "15         @115716 What information is incorrect? ^JK   \n",
       "16  @Ask_Spectrum Would you like me to email you a...   \n",
       "17  @115716 Our department is part of the corporat...   \n",
       "18  @Ask_Spectrum I received this from your corpor...   \n",
       "19                          @115716 No thank you. ^JK   \n",
       "20  @Ask_Spectrum The correct way to do it is via ...   \n",
       "21  @Ask_Spectrum That is INCORRECT information I ...   \n",
       "22  @115716 The information pertaining to the acco...   \n",
       "23  actually that's a broken link you sent me and ...   \n",
       "24  @115717 Hello, My apologies for any frustratio...   \n",
       "25  Yo @Ask_Spectrum, your customer service reps a...   \n",
       "26  @115718 I apologize for the inconvenience. I w...   \n",
       "27  My picture on @Ask_Spectrum pretty much every ...   \n",
       "28  @115719 Help has arrived! We are sorry to see ...   \n",
       "29  @VerizonSupport I finally got someone that hel...   \n",
       "30  @115719 Awesome! If you ever need us we are ju...   \n",
       "31  somebody from @VerizonSupport please help meee...   \n",
       "32         @115720 Have your friend message us.\\n^ACM   \n",
       "33  @VerizonSupport My friend is without internet ...   \n",
       "34  @115721 Please follow and DM us so that we can...   \n",
       "35  @VerizonSupport What else can I provide? They ...   \n",
       "36  @115721 We would not be able to verify anythin...   \n",
       "37  @VerizonSupport How? I have my phone number an...   \n",
       "38  @115721 We can use the order number to locate ...   \n",
       "39  @115722 MD. And this was sent to the wrong add...   \n",
       "40  @115721 Hello Duke, Do you have a copy of your...   \n",
       "\n",
       "                                           clean_text  \n",
       "1                                 @sprintcare propose  \n",
       "2   @sprintcare sent several private messages one ...  \n",
       "3   @115712 send private message assist click 'mes...  \n",
       "4                                         @sprintcare  \n",
       "5   @115712 send private message gain details account  \n",
       "6                  @sprintcare worst customer service  \n",
       "7                @115713 saddening hear shoot look kc  \n",
       "8   @sprintcare gonna magically change connectivit...  \n",
       "9   @115713 understand concerns wed send direct me...  \n",
       "10            @sprintcare since signed yousince day 1  \n",
       "11  @115713 h wed definitely work long experiencin...  \n",
       "12  @115714 y'all lie \"great\" connection 5 bars lt...  \n",
       "13  @115715 send private message send link access ...  \n",
       "14  @115714 whenever contact customer support tell...  \n",
       "15                   @115716 information incorrect jk  \n",
       "16  @askspectrum would email copy one since spectr...  \n",
       "17  @115716 department part corporate office youre...  \n",
       "18  @askspectrum received corporate office would copy  \n",
       "19                                   @115716 thank jk  \n",
       "20  @askspectrum correct way via ocs account takeo...  \n",
       "21  @askspectrum incorrect information form front ...  \n",
       "22  @115716 information pertaining account assumpt...  \n",
       "23  actually thats broken link sent incorrect info...  \n",
       "24  @115717 hello apologies frustrations inconveni...  \n",
       "25  yo @askspectrum customer service reps super ni...  \n",
       "26  @115718 apologize inconvenience glad assist na...  \n",
       "27  picture @askspectrum pretty much every day pay...  \n",
       "28                    @115719 arrived see trouble hsb  \n",
       "29         @verizonsupport finally got someone helped  \n",
       "30           @115719 awesome ever need tweet away hsb  \n",
       "31  somebody @verizonsupport meeeeee im worst luck...  \n",
       "32                         @115720 friend message acm  \n",
       "33  @verizonsupport friend without internet need p...  \n",
       "34                      @115721 follow look order hsb  \n",
       "35  @verizonsupport else provide refuse cannot val...  \n",
       "36  @115721 would able verify anything without aut...  \n",
       "37  @verizonsupport phone number email thats equip...  \n",
       "38  @115721 use order number locate account need s...  \n",
       "39                      @115722 md sent wrong address  \n",
       "40  @115721 hello duke copy bill state services lo...  "
      ]
     },
     "execution_count": 19,
     "metadata": {},
     "output_type": "execute_result"
    }
   ],
   "source": [
    "twcs_df.loc[1:40,['text','clean_text']]"
   ]
  },
  {
   "cell_type": "code",
   "execution_count": 20,
   "id": "5f149b0a",
   "metadata": {},
   "outputs": [
    {
     "data": {
      "text/plain": [
       "tweet_id                                 int64\n",
       "author_id                               object\n",
       "inbound                                   bool\n",
       "created_at                              object\n",
       "text                                    object\n",
       "response_tweet_id                       object\n",
       "in_response_to_tweet_id                float64\n",
       "created_td                 datetime64[ns, UTC]\n",
       "clean_text                              object\n",
       "dtype: object"
      ]
     },
     "execution_count": 20,
     "metadata": {},
     "output_type": "execute_result"
    }
   ],
   "source": [
    "#list the data types\n",
    "twcs_df.dtypes"
   ]
  },
  {
   "cell_type": "code",
   "execution_count": 21,
   "id": "7e4a54eb",
   "metadata": {},
   "outputs": [
    {
     "data": {
      "text/plain": [
       "Index                            128\n",
       "tweet_id                    22494192\n",
       "author_id                  182884606\n",
       "inbound                      2811774\n",
       "created_at                 244624338\n",
       "text                       590460669\n",
       "response_tweet_id          149127014\n",
       "in_response_to_tweet_id     22494192\n",
       "created_td                  22494192\n",
       "clean_text                 358034225\n",
       "dtype: int64"
      ]
     },
     "execution_count": 21,
     "metadata": {},
     "output_type": "execute_result"
    }
   ],
   "source": [
    "# list the size of each cilumn in bytes\n",
    "twcs_df.memory_usage(deep=True)"
   ]
  },
  {
   "cell_type": "markdown",
   "id": "2888bd9f",
   "metadata": {},
   "source": [
    "The text size was reduced from 590 million bytes to 358 million bytes.  In other words 40% of the text was removed."
   ]
  },
  {
   "cell_type": "code",
   "execution_count": 22,
   "id": "f0221f3b",
   "metadata": {},
   "outputs": [
    {
     "data": {
      "text/plain": [
       "[('look', 139620),\n",
       " ('send', 138915),\n",
       " ('@amazonhelp', 137238),\n",
       " ('well', 134029),\n",
       " ('service', 133716),\n",
       " ('im', 131788),\n",
       " ('number', 123459),\n",
       " ('account', 120118),\n",
       " ('email', 116879),\n",
       " ('phone', 114018)]"
      ]
     },
     "execution_count": 22,
     "metadata": {},
     "output_type": "execute_result"
    }
   ],
   "source": [
    "# recount frequency of word use\n",
    "cnt = Counter()\n",
    "\n",
    "for text in twcs_df['clean_text'].values:\n",
    "    for word in text.split():\n",
    "        cnt[word] +=1\n",
    "        \n",
    "cnt.most_common(10)"
   ]
  },
  {
   "cell_type": "markdown",
   "id": "b57004c4",
   "metadata": {},
   "source": [
    "The most common words are now a better indication of the information being sent to and from the chatbot."
   ]
  },
  {
   "cell_type": "code",
   "execution_count": 23,
   "id": "362e73bc",
   "metadata": {},
   "outputs": [
    {
     "name": "stdout",
     "output_type": "stream",
     "text": [
      "{'@823865', '@823861', '@823862', \"'spend\", 'nightmaretodealwith', '@823860', 'reservationnot', '@823863', '@823864'}\n"
     ]
    }
   ],
   "source": [
    "# and rare words\n",
    "n_rare_words = 10\n",
    "rare_words = set([w for (w,c) in cnt.most_common()][:- n_rare_words: -1])\n",
    "print(rare_words)"
   ]
  },
  {
   "cell_type": "markdown",
   "id": "a056c66c",
   "metadata": {},
   "source": [
    "I started the evaluation to determine the number of Tweeters and who is the most common."
   ]
  },
  {
   "cell_type": "code",
   "execution_count": 24,
   "id": "ca097925",
   "metadata": {},
   "outputs": [
    {
     "data": {
      "text/plain": [
       "count        2811774\n",
       "unique        702777\n",
       "top       AmazonHelp\n",
       "freq          169840\n",
       "Name: author_id, dtype: object"
      ]
     },
     "execution_count": 24,
     "metadata": {},
     "output_type": "execute_result"
    }
   ],
   "source": [
    "twcs_df['author_id'].describe()"
   ]
  },
  {
   "cell_type": "markdown",
   "id": "d43fd199",
   "metadata": {},
   "source": [
    "There are 700,000 Tweeters."
   ]
  },
  {
   "cell_type": "code",
   "execution_count": 25,
   "id": "2d4ea301",
   "metadata": {},
   "outputs": [
    {
     "data": {
      "text/plain": [
       "AmazonHelp         169840\n",
       "AppleSupport       106860\n",
       "Uber_Support        56270\n",
       "SpotifyCares        43265\n",
       "Delta               42253\n",
       "Tesco               38573\n",
       "AmericanAir         36764\n",
       "TMobileHelp         34317\n",
       "comcastcares        33031\n",
       "British_Airways     29361\n",
       "Name: author_id, dtype: int64"
      ]
     },
     "execution_count": 25,
     "metadata": {},
     "output_type": "execute_result"
    }
   ],
   "source": [
    "# Top ten most populat outbound chatbots.\n",
    "twcs_df['author_id'].value_counts().head(10)"
   ]
  },
  {
   "cell_type": "code",
   "execution_count": 73,
   "id": "ca006a0c",
   "metadata": {},
   "outputs": [
    {
     "data": {
      "text/plain": [
       "<AxesSubplot:>"
      ]
     },
     "execution_count": 73,
     "metadata": {},
     "output_type": "execute_result"
    },
    {
     "data": {
      "image/png": "[encoded data removed]",
      "text/plain": [
       "<Figure size 432x288 with 1 Axes>"
      ]
     },
     "metadata": {
      "needs_background": "light"
     },
     "output_type": "display_data"
    }
   ],
   "source": [
    "twcs_df['author_id'].value_counts().head(10).plot.bar(x='word', y='count', rot=270)"
   ]
  },
  {
   "cell_type": "code",
   "execution_count": 26,
   "id": "8182cf0b",
   "metadata": {},
   "outputs": [
    {
     "data": {
      "text/plain": [
       "115911    1286\n",
       "120576    1010\n",
       "115913     563\n",
       "116230     454\n",
       "169172     448\n",
       "117627     406\n",
       "115888     332\n",
       "116136     295\n",
       "116421     276\n",
       "115722     252\n",
       "Name: author_id, dtype: int64"
      ]
     },
     "execution_count": 26,
     "metadata": {},
     "output_type": "execute_result"
    }
   ],
   "source": [
    "# The top 10 authors of inbound tweets.\n",
    "twcs_df['author_id'].loc[twcs_df['inbound']==True].value_counts().head(10)"
   ]
  },
  {
   "cell_type": "code",
   "execution_count": 72,
   "id": "57065a0f",
   "metadata": {},
   "outputs": [
    {
     "data": {
      "text/plain": [
       "<AxesSubplot:>"
      ]
     },
     "execution_count": 72,
     "metadata": {},
     "output_type": "execute_result"
    },
    {
     "data": {
      "image/png": "[encoded data removed]",
      "text/plain": [
       "<Figure size 432x288 with 1 Axes>"
      ]
     },
     "metadata": {
      "needs_background": "light"
     },
     "output_type": "display_data"
    }
   ],
   "source": [
    "twcs_df['author_id'].loc[twcs_df['inbound']==True].value_counts().head(10).plot.bar(x='word', y='count', rot=270)"
   ]
  },
  {
   "cell_type": "markdown",
   "id": "8ea62c7e",
   "metadata": {},
   "source": [
    "Next let us considered when the tweets were set."
   ]
  },
  {
   "cell_type": "code",
   "execution_count": 27,
   "id": "e953bb94",
   "metadata": {},
   "outputs": [
    {
     "data": {
      "text/plain": [
       "<AxesSubplot:xlabel='created_td'>"
      ]
     },
     "execution_count": 27,
     "metadata": {},
     "output_type": "execute_result"
    },
    {
     "data": {
      "image/png": "[encoded data removed]",
      "text/plain": [
       "<Figure size 432x288 with 1 Axes>"
      ]
     },
     "metadata": {
      "needs_background": "light"
     },
     "output_type": "display_data"
    }
   ],
   "source": [
    "# this is a plot of the Tweets oer day\n",
    "twcs_df['created_td'].groupby([twcs_df['created_td'].dt.date]).count().plot()"
   ]
  },
  {
   "cell_type": "markdown",
   "id": "f2d8a537",
   "metadata": {},
   "source": [
    "Interesting 90% of the Tweets were sent in the last quarter of 2017."
   ]
  },
  {
   "cell_type": "markdown",
   "id": "7aceb445",
   "metadata": {},
   "source": [
    "I was curious to compare the Tweets sent in the last quarter of 2016 to the Tweets sent in the last quarter of 2017."
   ]
  },
  {
   "cell_type": "code",
   "execution_count": 37,
   "id": "02de1085",
   "metadata": {},
   "outputs": [],
   "source": [
    "# create a data frame with only records from the last quarter of 2016\n",
    "lq_16_df = twcs_df.loc[twcs_df['created_td'] >= '2016-10-01']\n",
    "lq_16_df = lq_16_df.loc[lq_16_df['created_td'] < '2017-01-01']"
   ]
  },
  {
   "cell_type": "code",
   "execution_count": 38,
   "id": "045e1cb6",
   "metadata": {},
   "outputs": [
    {
     "data": {
      "text/plain": [
       "169172            88\n",
       "Safaricom_Care    46\n",
       "airtel_care       21\n",
       "AmazonHelp        16\n",
       "288873            15\n",
       "271017            12\n",
       "O2                12\n",
       "GloCare           11\n",
       "116076             8\n",
       "121879             8\n",
       "Name: author_id, dtype: int64"
      ]
     },
     "execution_count": 38,
     "metadata": {},
     "output_type": "execute_result"
    }
   ],
   "source": [
    "# Top Tweeter last quarter of 2016.\n",
    "lq_16_df['author_id'].value_counts().head(10)"
   ]
  },
  {
   "cell_type": "code",
   "execution_count": 39,
   "id": "8577a827",
   "metadata": {},
   "outputs": [
    {
     "data": {
      "text/plain": [
       "<AxesSubplot:>"
      ]
     },
     "execution_count": 39,
     "metadata": {},
     "output_type": "execute_result"
    },
    {
     "data": {
      "image/png": "[encoded data removed]",
      "text/plain": [
       "<Figure size 432x288 with 1 Axes>"
      ]
     },
     "metadata": {
      "needs_background": "light"
     },
     "output_type": "display_data"
    }
   ],
   "source": [
    "lq_16_df['author_id'].value_counts().head(10).plot.bar(x='word', y='count', rot=270)"
   ]
  },
  {
   "cell_type": "code",
   "execution_count": 41,
   "id": "db9246e6",
   "metadata": {},
   "outputs": [
    {
     "data": {
      "text/plain": [
       "<AxesSubplot:xlabel='created_td'>"
      ]
     },
     "execution_count": 41,
     "metadata": {},
     "output_type": "execute_result"
    },
    {
     "data": {
      "image/png": "[encoded data removed]",
      "text/plain": [
       "<Figure size 432x288 with 1 Axes>"
      ]
     },
     "metadata": {
      "needs_background": "light"
     },
     "output_type": "display_data"
    }
   ],
   "source": [
    "# When did the Tweets happen?\n",
    "lq_16_df['author_id'].groupby([lq_16_df['created_td'].dt.date]).count().plot(rot=270)"
   ]
  },
  {
   "cell_type": "code",
   "execution_count": 43,
   "id": "9448aaae",
   "metadata": {},
   "outputs": [
    {
     "data": {
      "image/png": "[encoded data removed]",
      "text/plain": [
       "<Figure size 432x288 with 1 Axes>"
      ]
     },
     "metadata": {
      "needs_background": "light"
     },
     "output_type": "display_data"
    }
   ],
   "source": [
    "# Who are the top 5 Tweeter in the last quarter of 2016?\n",
    "import matplotlib.dates as mdates\n",
    "import matplotlib.pylab as plt\n",
    "import matplotlib as mpl\n",
    "lq_16_top_5 = lq_16_df['author_id'].value_counts().head().index.tolist()\n",
    "for i in lq_16_top_5:\n",
    "    plt.plot(lq_16_df['author_id'].loc[lq_16_df['author_id'] == i ].groupby([lq_16_df['created_td'].dt.date]).count(), label = i )\n",
    "    plt.legend(loc='center left', bbox_to_anchor=(1, 0.5))\n",
    "    plt.xticks(rotation = 270)"
   ]
  },
  {
   "cell_type": "code",
   "execution_count": 45,
   "id": "52cc4a5d",
   "metadata": {},
   "outputs": [
    {
     "data": {
      "text/html": [
       "<div>\n",
       "<style scoped>\n",
       "    .dataframe tbody tr th:only-of-type {\n",
       "        vertical-align: middle;\n",
       "    }\n",
       "\n",
       "    .dataframe tbody tr th {\n",
       "        vertical-align: top;\n",
       "    }\n",
       "\n",
       "    .dataframe thead th {\n",
       "        text-align: right;\n",
       "    }\n",
       "</style>\n",
       "<table border=\"1\" class=\"dataframe\">\n",
       "  <thead>\n",
       "    <tr style=\"text-align: right;\">\n",
       "      <th></th>\n",
       "      <th>author_id</th>\n",
       "      <th>count</th>\n",
       "    </tr>\n",
       "  </thead>\n",
       "  <tbody>\n",
       "    <tr>\n",
       "      <th>0</th>\n",
       "      <td>169172</td>\n",
       "      <td>88</td>\n",
       "    </tr>\n",
       "    <tr>\n",
       "      <th>1</th>\n",
       "      <td>Safaricom_Care</td>\n",
       "      <td>46</td>\n",
       "    </tr>\n",
       "    <tr>\n",
       "      <th>2</th>\n",
       "      <td>airtel_care</td>\n",
       "      <td>21</td>\n",
       "    </tr>\n",
       "    <tr>\n",
       "      <th>3</th>\n",
       "      <td>AmazonHelp</td>\n",
       "      <td>16</td>\n",
       "    </tr>\n",
       "    <tr>\n",
       "      <th>4</th>\n",
       "      <td>288873</td>\n",
       "      <td>15</td>\n",
       "    </tr>\n",
       "    <tr>\n",
       "      <th>5</th>\n",
       "      <td>all others</td>\n",
       "      <td>400</td>\n",
       "    </tr>\n",
       "  </tbody>\n",
       "</table>\n",
       "</div>"
      ],
      "text/plain": [
       "        author_id  count\n",
       "0          169172     88\n",
       "1  Safaricom_Care     46\n",
       "2     airtel_care     21\n",
       "3      AmazonHelp     16\n",
       "4          288873     15\n",
       "5      all others    400"
      ]
     },
     "execution_count": 45,
     "metadata": {},
     "output_type": "execute_result"
    }
   ],
   "source": [
    "# top 5 compared to all other Tweeters\n",
    "tweets_16_df  = pd.DataFrame( columns=['author_id','count'])\n",
    "for i in lq_16_top_5:\n",
    "    tweets_16_df.loc[len(tweets_16_df.index)] = [i, lq_16_df['author_id'].loc[lq_16_df['author_id'] == i ].count()] \n",
    "\n",
    "tweets_16_df.loc[len(tweets_16_df.index)] = [ 'all others', lq_16_df['author_id'].count() - tweets_16_df['count'].sum() ]\n",
    "tweets_16_df\n",
    "    "
   ]
  },
  {
   "cell_type": "code",
   "execution_count": 46,
   "id": "611a56c3",
   "metadata": {},
   "outputs": [
    {
     "data": {
      "image/png": "[encoded data removed]",
      "text/plain": [
       "<Figure size 432x288 with 1 Axes>"
      ]
     },
     "metadata": {},
     "output_type": "display_data"
    }
   ],
   "source": [
    "labels = tweets_16_df['author_id'].unique()\n",
    "sizes = tweets_16_df['count']\n",
    "\n",
    "plt.pie(sizes, labels=labels, autopct='%1.1f%%', shadow=True, startangle=140) \n",
    "plt.axis('equal')\n",
    "plt.show()"
   ]
  },
  {
   "cell_type": "code",
   "execution_count": 59,
   "id": "ccf18fec",
   "metadata": {},
   "outputs": [
    {
     "data": {
      "text/plain": [
       "Saturday     116\n",
       "Tuesday      109\n",
       "Friday        91\n",
       "Thursday      74\n",
       "Sunday        71\n",
       "Wednesday     71\n",
       "Monday        54\n",
       "Name: created_td, dtype: int64"
      ]
     },
     "execution_count": 59,
     "metadata": {},
     "output_type": "execute_result"
    }
   ],
   "source": [
    "# Tweet frequency by day of the week\n",
    "lq_16_df['created_td'].dt.day_name().value_counts()"
   ]
  },
  {
   "cell_type": "code",
   "execution_count": 60,
   "id": "0f59ecea",
   "metadata": {},
   "outputs": [
    {
     "data": {
      "text/plain": [
       "<AxesSubplot:>"
      ]
     },
     "execution_count": 60,
     "metadata": {},
     "output_type": "execute_result"
    },
    {
     "data": {
      "image/png": "[encoded data removed]",
      "text/plain": [
       "<Figure size 432x288 with 1 Axes>"
      ]
     },
     "metadata": {
      "needs_background": "light"
     },
     "output_type": "display_data"
    }
   ],
   "source": [
    "lq_16_df['created_td'].dt.day_name().value_counts().plot.bar(x='word', y='count', rot=270)"
   ]
  },
  {
   "cell_type": "code",
   "execution_count": 74,
   "id": "74d822a5",
   "metadata": {},
   "outputs": [],
   "source": [
    "# create a data frame with only records from the last quarter of 2017\n",
    "lq_17_df = twcs_df.loc[twcs_df['created_td'] >= '2017-10-01']"
   ]
  },
  {
   "cell_type": "code",
   "execution_count": 75,
   "id": "d007e325",
   "metadata": {},
   "outputs": [
    {
     "data": {
      "text/plain": [
       "AmazonHelp         168993\n",
       "AppleSupport       106662\n",
       "Uber_Support        56084\n",
       "SpotifyCares        43083\n",
       "Delta               42100\n",
       "Tesco               38446\n",
       "AmericanAir         36666\n",
       "TMobileHelp         34204\n",
       "comcastcares        32938\n",
       "British_Airways     29107\n",
       "Name: author_id, dtype: int64"
      ]
     },
     "execution_count": 75,
     "metadata": {},
     "output_type": "execute_result"
    }
   ],
   "source": [
    "lq_17_df['author_id'].value_counts().head(10)"
   ]
  },
  {
   "cell_type": "code",
   "execution_count": 62,
   "id": "801b337e",
   "metadata": {},
   "outputs": [
    {
     "data": {
      "text/plain": [
       "<AxesSubplot:>"
      ]
     },
     "execution_count": 62,
     "metadata": {},
     "output_type": "execute_result"
    },
    {
     "data": {
      "image/png": "[encoded data removed]",
      "text/plain": [
       "<Figure size 432x288 with 1 Axes>"
      ]
     },
     "metadata": {
      "needs_background": "light"
     },
     "output_type": "display_data"
    }
   ],
   "source": [
    "lq_17_df['author_id'].value_counts().head(10).plot.bar(x='word', y='count', rot=270)"
   ]
  },
  {
   "cell_type": "code",
   "execution_count": 63,
   "id": "e1ff21a4",
   "metadata": {},
   "outputs": [
    {
     "data": {
      "text/plain": [
       "<AxesSubplot:xlabel='created_td'>"
      ]
     },
     "execution_count": 63,
     "metadata": {},
     "output_type": "execute_result"
    },
    {
     "data": {
      "image/png": "[encoded data removed]",
      "text/plain": [
       "<Figure size 432x288 with 1 Axes>"
      ]
     },
     "metadata": {
      "needs_background": "light"
     },
     "output_type": "display_data"
    }
   ],
   "source": [
    "# When did the Tweets happen?\n",
    "lq_17_df['author_id'].groupby([lq_17_df['created_td'].dt.date]).count().plot(rot=270)"
   ]
  },
  {
   "cell_type": "code",
   "execution_count": 64,
   "id": "167525fb",
   "metadata": {},
   "outputs": [
    {
     "data": {
      "image/png": "[encoded data removed]",
      "text/plain": [
       "<Figure size 432x288 with 1 Axes>"
      ]
     },
     "metadata": {
      "needs_background": "light"
     },
     "output_type": "display_data"
    }
   ],
   "source": [
    "# Who are the top 5 Tweeter in this time frame?\n",
    "lq_17_top_5 = lq_17_df['author_id'].value_counts().head().index.tolist()\n",
    "for i in lq_17_top_5:\n",
    "    plt.plot(lq_17_df['author_id'].loc[lq_17_df['author_id'] == i ].groupby([lq_17_df['created_td'].dt.date]).count(), label = i )\n",
    "    plt.legend(loc='center left', bbox_to_anchor=(1, 0.5))\n",
    "    plt.xticks(rotation = 270)"
   ]
  },
  {
   "cell_type": "code",
   "execution_count": 68,
   "id": "429820ad",
   "metadata": {},
   "outputs": [
    {
     "data": {
      "text/html": [
       "<div>\n",
       "<style scoped>\n",
       "    .dataframe tbody tr th:only-of-type {\n",
       "        vertical-align: middle;\n",
       "    }\n",
       "\n",
       "    .dataframe tbody tr th {\n",
       "        vertical-align: top;\n",
       "    }\n",
       "\n",
       "    .dataframe thead th {\n",
       "        text-align: right;\n",
       "    }\n",
       "</style>\n",
       "<table border=\"1\" class=\"dataframe\">\n",
       "  <thead>\n",
       "    <tr style=\"text-align: right;\">\n",
       "      <th></th>\n",
       "      <th>author_id</th>\n",
       "      <th>count</th>\n",
       "    </tr>\n",
       "  </thead>\n",
       "  <tbody>\n",
       "    <tr>\n",
       "      <th>0</th>\n",
       "      <td>AmazonHelp</td>\n",
       "      <td>168993</td>\n",
       "    </tr>\n",
       "    <tr>\n",
       "      <th>1</th>\n",
       "      <td>AppleSupport</td>\n",
       "      <td>106662</td>\n",
       "    </tr>\n",
       "    <tr>\n",
       "      <th>2</th>\n",
       "      <td>Uber_Support</td>\n",
       "      <td>56084</td>\n",
       "    </tr>\n",
       "    <tr>\n",
       "      <th>3</th>\n",
       "      <td>SpotifyCares</td>\n",
       "      <td>43083</td>\n",
       "    </tr>\n",
       "    <tr>\n",
       "      <th>4</th>\n",
       "      <td>Delta</td>\n",
       "      <td>42100</td>\n",
       "    </tr>\n",
       "    <tr>\n",
       "      <th>5</th>\n",
       "      <td>all others</td>\n",
       "      <td>2374039</td>\n",
       "    </tr>\n",
       "  </tbody>\n",
       "</table>\n",
       "</div>"
      ],
      "text/plain": [
       "      author_id    count\n",
       "0    AmazonHelp   168993\n",
       "1  AppleSupport   106662\n",
       "2  Uber_Support    56084\n",
       "3  SpotifyCares    43083\n",
       "4         Delta    42100\n",
       "5    all others  2374039"
      ]
     },
     "execution_count": 68,
     "metadata": {},
     "output_type": "execute_result"
    }
   ],
   "source": [
    "# top 5 compared to all other Tweeters\n",
    "tweets_17_df  = pd.DataFrame( columns=['author_id','count'])\n",
    "for i in lq_17_top_5:\n",
    "    tweets_17_df.loc[len(tweets_17_df.index)] = [i, lq_17_df['author_id'].loc[lq_17_df['author_id'] == i ].count()] \n",
    "\n",
    "tweets_17_df.loc[len(tweets_17_df.index)] = [ 'all others', lq_17_df['author_id'].count() - tweets_17_df['count'].sum() ]\n",
    "tweets_17_df\n",
    "    "
   ]
  },
  {
   "cell_type": "code",
   "execution_count": 69,
   "id": "52fd2db2",
   "metadata": {},
   "outputs": [
    {
     "data": {
      "image/png": "[encoded data removed]",
      "text/plain": [
       "<Figure size 432x288 with 1 Axes>"
      ]
     },
     "metadata": {},
     "output_type": "display_data"
    }
   ],
   "source": [
    "labels = tweets_17_df['author_id'].unique()\n",
    "sizes = tweets_17_df['count']\n",
    "\n",
    "plt.pie(sizes, labels=labels, autopct='%1.1f%%', shadow=True, startangle=140) \n",
    "plt.axis('equal')\n",
    "plt.show()"
   ]
  },
  {
   "cell_type": "code",
   "execution_count": 70,
   "id": "532fe382",
   "metadata": {},
   "outputs": [
    {
     "data": {
      "text/plain": [
       "Friday       449070\n",
       "Wednesday    442694\n",
       "Thursday     436755\n",
       "Tuesday      420282\n",
       "Monday       385449\n",
       "Saturday     329215\n",
       "Sunday       327496\n",
       "Name: created_td, dtype: int64"
      ]
     },
     "execution_count": 70,
     "metadata": {},
     "output_type": "execute_result"
    }
   ],
   "source": [
    "# Tweet frequency by day of the week\n",
    "lq_17_df['created_td'].dt.day_name().value_counts()"
   ]
  },
  {
   "cell_type": "code",
   "execution_count": 71,
   "id": "32d52e6f",
   "metadata": {},
   "outputs": [
    {
     "data": {
      "text/plain": [
       "<AxesSubplot:>"
      ]
     },
     "execution_count": 71,
     "metadata": {},
     "output_type": "execute_result"
    },
    {
     "data": {
      "image/png": "[encoded data removed]",
      "text/plain": [
       "<Figure size 432x288 with 1 Axes>"
      ]
     },
     "metadata": {
      "needs_background": "light"
     },
     "output_type": "display_data"
    }
   ],
   "source": [
    "lq_17_df['created_td'].dt.day_name().value_counts().plot.bar(x='word', y='count', rot=270)"
   ]
  },
  {
   "cell_type": "markdown",
   "id": "6501f3a6",
   "metadata": {},
   "source": [
    "The 2016 data set was small enough that inbound tweets could make the top 5. In 2017 only outbound tweets were in the top 5.\n",
    "In 2016 the top five tweeters composed 30% of the tweets compared to 15% in 2017.\n",
    "Saturday was the most popular day in 2016 compared to weekdays in 2017.\n",
    "Both quarters had a spike in the first half of November.\n",
    "The main difference is that the number of tweets increased by four orders of magnitude in 2017."
   ]
  }
 ],
 "metadata": {
  "kernelspec": {
   "display_name": "Python 3 (ipykernel)",
   "language": "python",
   "name": "python3"
  },
  "language_info": {
   "codemirror_mode": {
    "name": "ipython",
    "version": 3
   },
   "file_extension": ".py",
   "mimetype": "text/x-python",
   "name": "python",
   "nbconvert_exporter": "python",
   "pygments_lexer": "ipython3",
   "version": "3.9.12"
  }
 },
 "nbformat": 4,
 "nbformat_minor": 5
}
