{
 "cells": [
  {
   "cell_type": "markdown",
   "id": "068cf474",
   "metadata": {},
   "source": [
    "Author: Steve Eckardt\n",
    "Revised: 10/26/22\n",
    "Description: Analysis and evaluation of charbot data\n",
    "             Open Avenues and Businessolver Internship"
   ]
  },
  {
   "cell_type": "markdown",
   "id": "815aea5f",
   "metadata": {},
   "source": [
    "The given data set is a CSV file of instant messages sent to and from a chatbot.\n",
    "The first step in exploration is understand and document columns in the data set."
   ]
  },
  {
   "cell_type": "code",
   "execution_count": 1,
   "id": "36cb190f",
   "metadata": {},
   "outputs": [],
   "source": [
    "import pandas as pd\n",
    "import numpy as np\n",
    "twcs_df = pd.read_csv(\"/Users/nepets/chatbot/twcs.csv\")"
   ]
  },
  {
   "cell_type": "code",
   "execution_count": 2,
   "id": "fc9c2c98",
   "metadata": {},
   "outputs": [
    {
     "name": "stdout",
     "output_type": "stream",
     "text": [
      "shape is: (2811774, 7)\n"
     ]
    }
   ],
   "source": [
    "print('shape is:', twcs_df.shape)"
   ]
  },
  {
   "cell_type": "code",
   "execution_count": 3,
   "id": "34e91a03",
   "metadata": {},
   "outputs": [
    {
     "data": {
      "text/html": [
       "<div>\n",
       "<style scoped>\n",
       "    .dataframe tbody tr th:only-of-type {\n",
       "        vertical-align: middle;\n",
       "    }\n",
       "\n",
       "    .dataframe tbody tr th {\n",
       "        vertical-align: top;\n",
       "    }\n",
       "\n",
       "    .dataframe thead th {\n",
       "        text-align: right;\n",
       "    }\n",
       "</style>\n",
       "<table border=\"1\" class=\"dataframe\">\n",
       "  <thead>\n",
       "    <tr style=\"text-align: right;\">\n",
       "      <th></th>\n",
       "      <th>tweet_id</th>\n",
       "      <th>author_id</th>\n",
       "      <th>inbound</th>\n",
       "      <th>created_at</th>\n",
       "      <th>text</th>\n",
       "      <th>response_tweet_id</th>\n",
       "      <th>in_response_to_tweet_id</th>\n",
       "    </tr>\n",
       "  </thead>\n",
       "  <tbody>\n",
       "    <tr>\n",
       "      <th>0</th>\n",
       "      <td>1</td>\n",
       "      <td>sprintcare</td>\n",
       "      <td>False</td>\n",
       "      <td>Tue Oct 31 22:10:47 +0000 2017</td>\n",
       "      <td>@115712 I understand. I would like to assist y...</td>\n",
       "      <td>2</td>\n",
       "      <td>3.0</td>\n",
       "    </tr>\n",
       "    <tr>\n",
       "      <th>1</th>\n",
       "      <td>2</td>\n",
       "      <td>115712</td>\n",
       "      <td>True</td>\n",
       "      <td>Tue Oct 31 22:11:45 +0000 2017</td>\n",
       "      <td>@sprintcare and how do you propose we do that</td>\n",
       "      <td>NaN</td>\n",
       "      <td>1.0</td>\n",
       "    </tr>\n",
       "    <tr>\n",
       "      <th>2</th>\n",
       "      <td>3</td>\n",
       "      <td>115712</td>\n",
       "      <td>True</td>\n",
       "      <td>Tue Oct 31 22:08:27 +0000 2017</td>\n",
       "      <td>@sprintcare I have sent several private messag...</td>\n",
       "      <td>1</td>\n",
       "      <td>4.0</td>\n",
       "    </tr>\n",
       "    <tr>\n",
       "      <th>3</th>\n",
       "      <td>4</td>\n",
       "      <td>sprintcare</td>\n",
       "      <td>False</td>\n",
       "      <td>Tue Oct 31 21:54:49 +0000 2017</td>\n",
       "      <td>@115712 Please send us a Private Message so th...</td>\n",
       "      <td>3</td>\n",
       "      <td>5.0</td>\n",
       "    </tr>\n",
       "    <tr>\n",
       "      <th>4</th>\n",
       "      <td>5</td>\n",
       "      <td>115712</td>\n",
       "      <td>True</td>\n",
       "      <td>Tue Oct 31 21:49:35 +0000 2017</td>\n",
       "      <td>@sprintcare I did.</td>\n",
       "      <td>4</td>\n",
       "      <td>6.0</td>\n",
       "    </tr>\n",
       "    <tr>\n",
       "      <th>5</th>\n",
       "      <td>6</td>\n",
       "      <td>sprintcare</td>\n",
       "      <td>False</td>\n",
       "      <td>Tue Oct 31 21:46:24 +0000 2017</td>\n",
       "      <td>@115712 Can you please send us a private messa...</td>\n",
       "      <td>5,7</td>\n",
       "      <td>8.0</td>\n",
       "    </tr>\n",
       "    <tr>\n",
       "      <th>6</th>\n",
       "      <td>8</td>\n",
       "      <td>115712</td>\n",
       "      <td>True</td>\n",
       "      <td>Tue Oct 31 21:45:10 +0000 2017</td>\n",
       "      <td>@sprintcare is the worst customer service</td>\n",
       "      <td>9,6,10</td>\n",
       "      <td>NaN</td>\n",
       "    </tr>\n",
       "    <tr>\n",
       "      <th>7</th>\n",
       "      <td>11</td>\n",
       "      <td>sprintcare</td>\n",
       "      <td>False</td>\n",
       "      <td>Tue Oct 31 22:10:35 +0000 2017</td>\n",
       "      <td>@115713 This is saddening to hear. Please shoo...</td>\n",
       "      <td>NaN</td>\n",
       "      <td>12.0</td>\n",
       "    </tr>\n",
       "    <tr>\n",
       "      <th>8</th>\n",
       "      <td>12</td>\n",
       "      <td>115713</td>\n",
       "      <td>True</td>\n",
       "      <td>Tue Oct 31 22:04:47 +0000 2017</td>\n",
       "      <td>@sprintcare You gonna magically change your co...</td>\n",
       "      <td>11,13,14</td>\n",
       "      <td>15.0</td>\n",
       "    </tr>\n",
       "    <tr>\n",
       "      <th>9</th>\n",
       "      <td>15</td>\n",
       "      <td>sprintcare</td>\n",
       "      <td>False</td>\n",
       "      <td>Tue Oct 31 20:03:31 +0000 2017</td>\n",
       "      <td>@115713 We understand your concerns and we'd l...</td>\n",
       "      <td>12</td>\n",
       "      <td>16.0</td>\n",
       "    </tr>\n",
       "  </tbody>\n",
       "</table>\n",
       "</div>"
      ],
      "text/plain": [
       "   tweet_id   author_id  inbound                      created_at  \\\n",
       "0         1  sprintcare    False  Tue Oct 31 22:10:47 +0000 2017   \n",
       "1         2      115712     True  Tue Oct 31 22:11:45 +0000 2017   \n",
       "2         3      115712     True  Tue Oct 31 22:08:27 +0000 2017   \n",
       "3         4  sprintcare    False  Tue Oct 31 21:54:49 +0000 2017   \n",
       "4         5      115712     True  Tue Oct 31 21:49:35 +0000 2017   \n",
       "5         6  sprintcare    False  Tue Oct 31 21:46:24 +0000 2017   \n",
       "6         8      115712     True  Tue Oct 31 21:45:10 +0000 2017   \n",
       "7        11  sprintcare    False  Tue Oct 31 22:10:35 +0000 2017   \n",
       "8        12      115713     True  Tue Oct 31 22:04:47 +0000 2017   \n",
       "9        15  sprintcare    False  Tue Oct 31 20:03:31 +0000 2017   \n",
       "\n",
       "                                                text response_tweet_id  \\\n",
       "0  @115712 I understand. I would like to assist y...                 2   \n",
       "1      @sprintcare and how do you propose we do that               NaN   \n",
       "2  @sprintcare I have sent several private messag...                 1   \n",
       "3  @115712 Please send us a Private Message so th...                 3   \n",
       "4                                 @sprintcare I did.                 4   \n",
       "5  @115712 Can you please send us a private messa...               5,7   \n",
       "6          @sprintcare is the worst customer service            9,6,10   \n",
       "7  @115713 This is saddening to hear. Please shoo...               NaN   \n",
       "8  @sprintcare You gonna magically change your co...          11,13,14   \n",
       "9  @115713 We understand your concerns and we'd l...                12   \n",
       "\n",
       "   in_response_to_tweet_id  \n",
       "0                      3.0  \n",
       "1                      1.0  \n",
       "2                      4.0  \n",
       "3                      5.0  \n",
       "4                      6.0  \n",
       "5                      8.0  \n",
       "6                      NaN  \n",
       "7                     12.0  \n",
       "8                     15.0  \n",
       "9                     16.0  "
      ]
     },
     "execution_count": 3,
     "metadata": {},
     "output_type": "execute_result"
    }
   ],
   "source": [
    "twcs_df.head(10)"
   ]
  },
  {
   "cell_type": "code",
   "execution_count": 4,
   "id": "57aede41",
   "metadata": {},
   "outputs": [
    {
     "data": {
      "text/plain": [
       "tweet_id                     int64\n",
       "author_id                   object\n",
       "inbound                       bool\n",
       "created_at                  object\n",
       "text                        object\n",
       "response_tweet_id           object\n",
       "in_response_to_tweet_id    float64\n",
       "dtype: object"
      ]
     },
     "execution_count": 4,
     "metadata": {},
     "output_type": "execute_result"
    }
   ],
   "source": [
    "twcs_df.dtypes"
   ]
  },
  {
   "cell_type": "markdown",
   "id": "e0b6f2c5",
   "metadata": {},
   "source": [
    "The data contains about 2.8 million records and seven columns.\n",
    "\n",
    "The line number is displayed at the far leftt but it is not in a column.\n",
    "tweet_id is a unique identifier for each record and can be used as a key or index.\n",
    "author_id is address of the person or bot sending the tweet.\n",
    "inbound\tis a boolean value. If true the message is sent to the bot. If false the message is from the bot.\n",
    "created_at is a string stating the date and time the Tweet was created.\n",
    "text is the Tweet.\n",
    "response_tweet_id is the tweet_id of the original Tweet.\n",
    "in_response_to_tweet_id is the tweet_id of the Tweet that started the conversation."
   ]
  },
  {
   "cell_type": "markdown",
   "id": "49d635c3",
   "metadata": {},
   "source": [
    "The following code will clean the data. Comverting the created at time stamp from a string to a datatime object.  Clean the text of the Tweet by casting it to lovercase, removing URLs. punctuation, stop words, 10 most common words, 10 rarest words, and emojis.  The clean data will be put in two new columns preserving the original sata set."
   ]
  },
  {
   "cell_type": "code",
   "execution_count": 5,
   "id": "20f5361f",
   "metadata": {},
   "outputs": [],
   "source": [
    "# Translate the created_at column from a string to a datetime object in a new column\n",
    "# add a column to put the cleaned text in\n",
    "import datetime\n",
    "twcs_df['created_td'] = pd.to_datetime(twcs_df['created_at'])\n",
    "twcs_df['clean_text'] = 'clean tweet'"
   ]
  },
  {
   "cell_type": "code",
   "execution_count": 6,
   "id": "adc2cffc",
   "metadata": {},
   "outputs": [],
   "source": [
    "# cast the tweet text into lowercase\n",
    "twcs_df['clean_text'] = twcs_df.loc[:,'text'].str.lower()"
   ]
  },
  {
   "cell_type": "code",
   "execution_count": 7,
   "id": "fb9c0c7c",
   "metadata": {},
   "outputs": [],
   "source": [
    "# remove all URLs from text\n",
    "import re\n",
    "twcs_df['clean_text'] = twcs_df['clean_text'].replace(r'http\\S+', '', regex=True).replace(r'www\\S+', '', regex=True)"
   ]
  },
  {
   "cell_type": "code",
   "execution_count": 8,
   "id": "84fe7219",
   "metadata": {},
   "outputs": [
    {
     "name": "stdout",
     "output_type": "stream",
     "text": [
      "!\"#$%&'()*+,-./:;<=>?[\\]^_`{|}~\n"
     ]
    }
   ],
   "source": [
    "# remove punctuation with the exception of the @ symbol\n",
    "import string\n",
    "punctuations = '!\"#$%&\\'()*+,-./:;<=>?[\\]^_`{|}~'\n",
    "print(punctuations)\n",
    "\n",
    "%timeit\n",
    "def remove_punctuations(text):\n",
    "    return text.translate(str.maketrans('','',punctuations))\n",
    "    \n",
    "twcs_df['clean_text'] = twcs_df['clean_text'].apply(lambda text: remove_punctuations(text))"
   ]
  },
  {
   "cell_type": "code",
   "execution_count": 9,
   "id": "5a9c74fc",
   "metadata": {},
   "outputs": [],
   "source": [
    "# import and update Natural Language Toolkit\n",
    "import nltk\n",
    "import ssl\n",
    "\n",
    "try:\n",
    "    _create_unverified_https_context = ssl._create_unverified_context\n",
    "except AttributeError:\n",
    "    pass\n",
    "else:\n",
    "    ssl._create_default_https_context = _create_unverified_https_context\n",
    "\n",
    "# nltk.download()"
   ]
  },
  {
   "cell_type": "code",
   "execution_count": 10,
   "id": "66787c85",
   "metadata": {},
   "outputs": [
    {
     "data": {
      "text/plain": [
       "\"i, me, my, myself, we, our, ours, ourselves, you, you're, you've, you'll, you'd, your, yours, yourself, yourselves, he, him, his, himself, she, she's, her, hers, herself, it, it's, its, itself, they, them, their, theirs, themselves, what, which, who, whom, this, that, that'll, these, those, am, is, are, was, were, be, been, being, have, has, had, having, do, does, did, doing, a, an, the, and, but, if, or, because, as, until, while, of, at, by, for, with, about, against, between, into, through, during, before, after, above, below, to, from, up, down, in, out, on, off, over, under, again, further, then, once, here, there, when, where, why, how, all, any, both, each, few, more, most, other, some, such, no, nor, not, only, own, same, so, than, too, very, s, t, can, will, just, don, don't, should, should've, now, d, ll, m, o, re, ve, y, ain, aren, aren't, couldn, couldn't, didn, didn't, doesn, doesn't, hadn, hadn't, hasn, hasn't, haven, haven't, isn, isn't, ma, mightn, mightn't, mustn, mustn't, needn, needn't, shan, shan't, shouldn, shouldn't, wasn, wasn't, weren, weren't, won, won't, wouldn, wouldn't\""
      ]
     },
     "execution_count": 10,
     "metadata": {},
     "output_type": "execute_result"
    }
   ],
   "source": [
    "# import and list stopwords\n",
    "# nltk.download('stopwords')\n",
    "from nltk.corpus import stopwords\n",
    "', '.join(stopwords.words('english'))"
   ]
  },
  {
   "cell_type": "code",
   "execution_count": 11,
   "id": "78ca867d",
   "metadata": {},
   "outputs": [],
   "source": [
    "# remove the stop words listed above\n",
    "stopwords_set = set(stopwords.words('english'))\n",
    "def remove_stopwords(text):\n",
    "    return ' '.join(words for words in str(text).split() if words not in stopwords_set)\n",
    "    \n",
    "twcs_df['clean_text'] = twcs_df['clean_text'].apply(lambda text: remove_stopwords(text))"
   ]
  },
  {
   "cell_type": "code",
   "execution_count": 12,
   "id": "ebca7767",
   "metadata": {},
   "outputs": [
    {
     "data": {
      "text/plain": [
       "[('us', 451277),\n",
       " ('please', 402715),\n",
       " ('dm', 335422),\n",
       " ('help', 267643),\n",
       " ('hi', 224603),\n",
       " ('thanks', 206452),\n",
       " ('get', 200373),\n",
       " ('sorry', 192246),\n",
       " ('like', 146386),\n",
       " ('know', 145409)]"
      ]
     },
     "execution_count": 12,
     "metadata": {},
     "output_type": "execute_result"
    }
   ],
   "source": [
    "# count frequency of word use\n",
    "from collections import Counter\n",
    "cnt = Counter()\n",
    "\n",
    "for text in twcs_df['clean_text'].values:\n",
    "    for word in text.split():\n",
    "        cnt[word] +=1\n",
    "        \n",
    "cnt.most_common(10)"
   ]
  },
  {
   "cell_type": "code",
   "execution_count": 13,
   "id": "9a3278ec",
   "metadata": {},
   "outputs": [],
   "source": [
    "# remove 10 most common words\n",
    "freq_words = set([w for (w,wc) in cnt.most_common(10)])\n",
    "\n",
    "def remove_freqwords(text):\n",
    "    return ' '.join(word for word in str(text).split() if word not in freq_words)\n",
    "\n",
    "twcs_df['clean_text'] = twcs_df['clean_text'].apply(lambda text:remove_freqwords(text))"
   ]
  },
  {
   "cell_type": "code",
   "execution_count": 14,
   "id": "a051d1ac",
   "metadata": {},
   "outputs": [
    {
     "name": "stdout",
     "output_type": "stream",
     "text": [
      "{'いきなり来たんだけど', '@823867', '@823868', 'notjustxmasallyearround', '@823866', '当サイトからそのようなメールをお送りすることはございません。当サイトの名をかたるフィッシング行為が増えているようです。連絡先に電話をしたりしないようお気を付けください。', 'なんですかこれ！！？', '@823869', '@823870'}\n"
     ]
    }
   ],
   "source": [
    "# remove 10 rarest words\n",
    "n_rare_words = 10\n",
    "rare_words = set([w for (w,c) in cnt.most_common()][:- n_rare_words: -1])\n",
    "print(rare_words)\n",
    "\n",
    "def remove_rarewords(text):\n",
    "    return ' '.join(word for word in str(text).split() if word not in rare_words)\n",
    "\n",
    "twcs_df['clean_text'] = twcs_df['clean_text'].apply(lambda text:remove_rarewords(text))"
   ]
  },
  {
   "cell_type": "code",
   "execution_count": 15,
   "id": "460eab50",
   "metadata": {},
   "outputs": [],
   "source": [
    "# This will remove all numbers but it would also remove the Tweet IDs\n",
    "# numbers = '0123456789'\n",
    "# %timeit\n",
    "# def remove_numbers(text):\n",
    "#    return text.translate(str.maketrans('','',numbers))\n",
    "    \n",
    "# twcs_df['clean_text'] = twcs_df['clean_text'].apply(lambda text: remove_numbers(text))\n",
    "# twcs_df.head(10)"
   ]
  },
  {
   "cell_type": "code",
   "execution_count": 64,
   "id": "17ae1c98",
   "metadata": {},
   "outputs": [
    {
     "data": {
      "text/html": [
       "<div>\n",
       "<style scoped>\n",
       "    .dataframe tbody tr th:only-of-type {\n",
       "        vertical-align: middle;\n",
       "    }\n",
       "\n",
       "    .dataframe tbody tr th {\n",
       "        vertical-align: top;\n",
       "    }\n",
       "\n",
       "    .dataframe thead th {\n",
       "        text-align: right;\n",
       "    }\n",
       "</style>\n",
       "<table border=\"1\" class=\"dataframe\">\n",
       "  <thead>\n",
       "    <tr style=\"text-align: right;\">\n",
       "      <th></th>\n",
       "      <th>tweet_id</th>\n",
       "      <th>author_id</th>\n",
       "      <th>inbound</th>\n",
       "      <th>created_at</th>\n",
       "      <th>text</th>\n",
       "      <th>response_tweet_id</th>\n",
       "      <th>in_response_to_tweet_id</th>\n",
       "      <th>created_td</th>\n",
       "      <th>clean_text</th>\n",
       "    </tr>\n",
       "  </thead>\n",
       "  <tbody>\n",
       "    <tr>\n",
       "      <th>0</th>\n",
       "      <td>1</td>\n",
       "      <td>sprintcare</td>\n",
       "      <td>False</td>\n",
       "      <td>Tue Oct 31 22:10:47 +0000 2017</td>\n",
       "      <td>@115712 I understand. I would like to assist y...</td>\n",
       "      <td>2</td>\n",
       "      <td>3.0</td>\n",
       "      <td>2017-10-31 22:10:47+00:00</td>\n",
       "      <td>@115712 understand would assist would need pri...</td>\n",
       "    </tr>\n",
       "    <tr>\n",
       "      <th>1</th>\n",
       "      <td>2</td>\n",
       "      <td>115712</td>\n",
       "      <td>True</td>\n",
       "      <td>Tue Oct 31 22:11:45 +0000 2017</td>\n",
       "      <td>@sprintcare and how do you propose we do that</td>\n",
       "      <td>NaN</td>\n",
       "      <td>1.0</td>\n",
       "      <td>2017-10-31 22:11:45+00:00</td>\n",
       "      <td>@sprintcare propose</td>\n",
       "    </tr>\n",
       "    <tr>\n",
       "      <th>2</th>\n",
       "      <td>3</td>\n",
       "      <td>115712</td>\n",
       "      <td>True</td>\n",
       "      <td>Tue Oct 31 22:08:27 +0000 2017</td>\n",
       "      <td>@sprintcare I have sent several private messag...</td>\n",
       "      <td>1</td>\n",
       "      <td>4.0</td>\n",
       "      <td>2017-10-31 22:08:27+00:00</td>\n",
       "      <td>@sprintcare sent several private messages one ...</td>\n",
       "    </tr>\n",
       "    <tr>\n",
       "      <th>3</th>\n",
       "      <td>4</td>\n",
       "      <td>sprintcare</td>\n",
       "      <td>False</td>\n",
       "      <td>Tue Oct 31 21:54:49 +0000 2017</td>\n",
       "      <td>@115712 Please send us a Private Message so th...</td>\n",
       "      <td>3</td>\n",
       "      <td>5.0</td>\n",
       "      <td>2017-10-31 21:54:49+00:00</td>\n",
       "      <td>@115712 send private message assist click 'mes...</td>\n",
       "    </tr>\n",
       "    <tr>\n",
       "      <th>4</th>\n",
       "      <td>5</td>\n",
       "      <td>115712</td>\n",
       "      <td>True</td>\n",
       "      <td>Tue Oct 31 21:49:35 +0000 2017</td>\n",
       "      <td>@sprintcare I did.</td>\n",
       "      <td>4</td>\n",
       "      <td>6.0</td>\n",
       "      <td>2017-10-31 21:49:35+00:00</td>\n",
       "      <td>@sprintcare</td>\n",
       "    </tr>\n",
       "    <tr>\n",
       "      <th>...</th>\n",
       "      <td>...</td>\n",
       "      <td>...</td>\n",
       "      <td>...</td>\n",
       "      <td>...</td>\n",
       "      <td>...</td>\n",
       "      <td>...</td>\n",
       "      <td>...</td>\n",
       "      <td>...</td>\n",
       "      <td>...</td>\n",
       "    </tr>\n",
       "    <tr>\n",
       "      <th>2811769</th>\n",
       "      <td>2987947</td>\n",
       "      <td>sprintcare</td>\n",
       "      <td>False</td>\n",
       "      <td>Wed Nov 22 08:43:51 +0000 2017</td>\n",
       "      <td>@823869 Hey, we'd be happy to look into this f...</td>\n",
       "      <td>NaN</td>\n",
       "      <td>2987948.0</td>\n",
       "      <td>2017-11-22 08:43:51+00:00</td>\n",
       "      <td>hey wed happy look send direct message assist tn</td>\n",
       "    </tr>\n",
       "    <tr>\n",
       "      <th>2811770</th>\n",
       "      <td>2987948</td>\n",
       "      <td>823869</td>\n",
       "      <td>True</td>\n",
       "      <td>Wed Nov 22 08:35:16 +0000 2017</td>\n",
       "      <td>@115714 wtf!? I’ve been having really shitty s...</td>\n",
       "      <td>2987947</td>\n",
       "      <td>NaN</td>\n",
       "      <td>2017-11-22 08:35:16+00:00</td>\n",
       "      <td>@115714 wtf i've really shitty service day shi...</td>\n",
       "    </tr>\n",
       "    <tr>\n",
       "      <th>2811771</th>\n",
       "      <td>2812240</td>\n",
       "      <td>121673</td>\n",
       "      <td>True</td>\n",
       "      <td>Thu Nov 23 04:13:07 +0000 2017</td>\n",
       "      <td>@143549 @sprintcare You have to go to https://...</td>\n",
       "      <td>NaN</td>\n",
       "      <td>2812239.0</td>\n",
       "      <td>2017-11-23 04:13:07+00:00</td>\n",
       "      <td>@143549 @sprintcare go ask add hulu service ac...</td>\n",
       "    </tr>\n",
       "    <tr>\n",
       "      <th>2811772</th>\n",
       "      <td>2987949</td>\n",
       "      <td>AldiUK</td>\n",
       "      <td>False</td>\n",
       "      <td>Wed Nov 22 08:31:24 +0000 2017</td>\n",
       "      <td>@823870 Sounds delicious, Sarah! 😋 https://t.c...</td>\n",
       "      <td>NaN</td>\n",
       "      <td>2987950.0</td>\n",
       "      <td>2017-11-22 08:31:24+00:00</td>\n",
       "      <td>sounds delicious sarah</td>\n",
       "    </tr>\n",
       "    <tr>\n",
       "      <th>2811773</th>\n",
       "      <td>2987950</td>\n",
       "      <td>823870</td>\n",
       "      <td>True</td>\n",
       "      <td>Tue Nov 21 22:01:04 +0000 2017</td>\n",
       "      <td>@AldiUK  warm sloe gin mince pies with ice cre...</td>\n",
       "      <td>2987951,2987949</td>\n",
       "      <td>NaN</td>\n",
       "      <td>2017-11-21 22:01:04+00:00</td>\n",
       "      <td>@aldiuk warm sloe gin mince pies ice cream bes...</td>\n",
       "    </tr>\n",
       "  </tbody>\n",
       "</table>\n",
       "<p>2811774 rows × 9 columns</p>\n",
       "</div>"
      ],
      "text/plain": [
       "         tweet_id   author_id  inbound                      created_at  \\\n",
       "0               1  sprintcare    False  Tue Oct 31 22:10:47 +0000 2017   \n",
       "1               2      115712     True  Tue Oct 31 22:11:45 +0000 2017   \n",
       "2               3      115712     True  Tue Oct 31 22:08:27 +0000 2017   \n",
       "3               4  sprintcare    False  Tue Oct 31 21:54:49 +0000 2017   \n",
       "4               5      115712     True  Tue Oct 31 21:49:35 +0000 2017   \n",
       "...           ...         ...      ...                             ...   \n",
       "2811769   2987947  sprintcare    False  Wed Nov 22 08:43:51 +0000 2017   \n",
       "2811770   2987948      823869     True  Wed Nov 22 08:35:16 +0000 2017   \n",
       "2811771   2812240      121673     True  Thu Nov 23 04:13:07 +0000 2017   \n",
       "2811772   2987949      AldiUK    False  Wed Nov 22 08:31:24 +0000 2017   \n",
       "2811773   2987950      823870     True  Tue Nov 21 22:01:04 +0000 2017   \n",
       "\n",
       "                                                      text response_tweet_id  \\\n",
       "0        @115712 I understand. I would like to assist y...                 2   \n",
       "1            @sprintcare and how do you propose we do that               NaN   \n",
       "2        @sprintcare I have sent several private messag...                 1   \n",
       "3        @115712 Please send us a Private Message so th...                 3   \n",
       "4                                       @sprintcare I did.                 4   \n",
       "...                                                    ...               ...   \n",
       "2811769  @823869 Hey, we'd be happy to look into this f...               NaN   \n",
       "2811770  @115714 wtf!? I’ve been having really shitty s...           2987947   \n",
       "2811771  @143549 @sprintcare You have to go to https://...               NaN   \n",
       "2811772  @823870 Sounds delicious, Sarah! 😋 https://t.c...               NaN   \n",
       "2811773  @AldiUK  warm sloe gin mince pies with ice cre...   2987951,2987949   \n",
       "\n",
       "         in_response_to_tweet_id                created_td  \\\n",
       "0                            3.0 2017-10-31 22:10:47+00:00   \n",
       "1                            1.0 2017-10-31 22:11:45+00:00   \n",
       "2                            4.0 2017-10-31 22:08:27+00:00   \n",
       "3                            5.0 2017-10-31 21:54:49+00:00   \n",
       "4                            6.0 2017-10-31 21:49:35+00:00   \n",
       "...                          ...                       ...   \n",
       "2811769                2987948.0 2017-11-22 08:43:51+00:00   \n",
       "2811770                      NaN 2017-11-22 08:35:16+00:00   \n",
       "2811771                2812239.0 2017-11-23 04:13:07+00:00   \n",
       "2811772                2987950.0 2017-11-22 08:31:24+00:00   \n",
       "2811773                      NaN 2017-11-21 22:01:04+00:00   \n",
       "\n",
       "                                                clean_text  \n",
       "0        @115712 understand would assist would need pri...  \n",
       "1                                      @sprintcare propose  \n",
       "2        @sprintcare sent several private messages one ...  \n",
       "3        @115712 send private message assist click 'mes...  \n",
       "4                                              @sprintcare  \n",
       "...                                                    ...  \n",
       "2811769   hey wed happy look send direct message assist tn  \n",
       "2811770  @115714 wtf i've really shitty service day shi...  \n",
       "2811771  @143549 @sprintcare go ask add hulu service ac...  \n",
       "2811772                             sounds delicious sarah  \n",
       "2811773  @aldiuk warm sloe gin mince pies ice cream bes...  \n",
       "\n",
       "[2811774 rows x 9 columns]"
      ]
     },
     "execution_count": 64,
     "metadata": {},
     "output_type": "execute_result"
    }
   ],
   "source": [
    "# remove emoji\n",
    "from cleantext import clean\n",
    "def remove_emoji(text):\n",
    "    return clean(text, no_emoji=True)\n",
    "twcs_df['clean_text'] = twcs_df['clean_text'].apply(lambda text:remove_emoji(text))\n",
    "twcs_df"
   ]
  },
  {
   "cell_type": "code",
   "execution_count": 17,
   "id": "5f149b0a",
   "metadata": {},
   "outputs": [
    {
     "data": {
      "text/plain": [
       "tweet_id                                 int64\n",
       "author_id                               object\n",
       "inbound                                   bool\n",
       "created_at                              object\n",
       "text                                    object\n",
       "response_tweet_id                       object\n",
       "in_response_to_tweet_id                float64\n",
       "created_td                 datetime64[ns, UTC]\n",
       "clean_text                              object\n",
       "dtype: object"
      ]
     },
     "execution_count": 17,
     "metadata": {},
     "output_type": "execute_result"
    }
   ],
   "source": [
    "twcs_df.dtypes"
   ]
  },
  {
   "cell_type": "code",
   "execution_count": 18,
   "id": "7e4a54eb",
   "metadata": {},
   "outputs": [
    {
     "data": {
      "text/plain": [
       "Index                            128\n",
       "tweet_id                    22494192\n",
       "author_id                  182884606\n",
       "inbound                      2811774\n",
       "created_at                 244624338\n",
       "text                       590460669\n",
       "response_tweet_id          149127014\n",
       "in_response_to_tweet_id     22494192\n",
       "created_td                  22494192\n",
       "clean_text                 358034225\n",
       "dtype: int64"
      ]
     },
     "execution_count": 18,
     "metadata": {},
     "output_type": "execute_result"
    }
   ],
   "source": [
    "twcs_df.memory_usage(deep=True)"
   ]
  },
  {
   "cell_type": "markdown",
   "id": "2888bd9f",
   "metadata": {},
   "source": [
    "The text size was reduced from 590 million bytes to 358 million bytes.  In other words 40% of the text was removed."
   ]
  },
  {
   "cell_type": "code",
   "execution_count": 19,
   "id": "f0221f3b",
   "metadata": {},
   "outputs": [
    {
     "data": {
      "text/plain": [
       "[('look', 139620),\n",
       " ('send', 138915),\n",
       " ('@amazonhelp', 137238),\n",
       " ('well', 134029),\n",
       " ('service', 133716),\n",
       " ('im', 131788),\n",
       " ('number', 123459),\n",
       " ('account', 120118),\n",
       " ('email', 116879),\n",
       " ('phone', 114018)]"
      ]
     },
     "execution_count": 19,
     "metadata": {},
     "output_type": "execute_result"
    }
   ],
   "source": [
    "# recount frequency of word use\n",
    "cnt = Counter()\n",
    "\n",
    "for text in twcs_df['clean_text'].values:\n",
    "    for word in text.split():\n",
    "        cnt[word] +=1\n",
    "        \n",
    "cnt.most_common(10)"
   ]
  },
  {
   "cell_type": "markdown",
   "id": "b57004c4",
   "metadata": {},
   "source": [
    "The most common words are now a better indication of the information being sent to and from the chatbot."
   ]
  },
  {
   "cell_type": "code",
   "execution_count": 20,
   "id": "362e73bc",
   "metadata": {},
   "outputs": [
    {
     "name": "stdout",
     "output_type": "stream",
     "text": [
      "{'@823863', '@823861', 'nightmaretodealwith', \"'spend\", '@823864', '@823865', '@823862', '@823860', 'reservationnot'}\n"
     ]
    }
   ],
   "source": [
    "# and rare words\n",
    "n_rare_words = 10\n",
    "rare_words = set([w for (w,c) in cnt.most_common()][:- n_rare_words: -1])\n",
    "print(rare_words)"
   ]
  },
  {
   "cell_type": "markdown",
   "id": "825b3368",
   "metadata": {},
   "source": [
    "To start the evaluation bedeteermining how many Tweeters are there and who ate the most common."
   ]
  },
  {
   "cell_type": "code",
   "execution_count": 21,
   "id": "ca097925",
   "metadata": {},
   "outputs": [
    {
     "data": {
      "text/plain": [
       "count        2811774\n",
       "unique        702777\n",
       "top       AmazonHelp\n",
       "freq          169840\n",
       "Name: author_id, dtype: object"
      ]
     },
     "execution_count": 21,
     "metadata": {},
     "output_type": "execute_result"
    }
   ],
   "source": [
    "twcs_df['author_id'].describe()"
   ]
  },
  {
   "cell_type": "markdown",
   "id": "74d1dcfb",
   "metadata": {},
   "source": [
    "There are 2.8 million Tweeters."
   ]
  },
  {
   "cell_type": "code",
   "execution_count": 22,
   "id": "2d4ea301",
   "metadata": {},
   "outputs": [
    {
     "data": {
      "text/plain": [
       "AmazonHelp         169840\n",
       "AppleSupport       106860\n",
       "Uber_Support        56270\n",
       "SpotifyCares        43265\n",
       "Delta               42253\n",
       "Tesco               38573\n",
       "AmericanAir         36764\n",
       "TMobileHelp         34317\n",
       "comcastcares        33031\n",
       "British_Airways     29361\n",
       "Name: author_id, dtype: int64"
      ]
     },
     "execution_count": 22,
     "metadata": {},
     "output_type": "execute_result"
    }
   ],
   "source": [
    "# Top ten most populat outbound chatbots.\n",
    "twcs_df['author_id'].value_counts().head(10)"
   ]
  },
  {
   "cell_type": "code",
   "execution_count": 23,
   "id": "8182cf0b",
   "metadata": {},
   "outputs": [
    {
     "data": {
      "text/plain": [
       "115911    1286\n",
       "120576    1010\n",
       "115913     563\n",
       "116230     454\n",
       "169172     448\n",
       "117627     406\n",
       "115888     332\n",
       "116136     295\n",
       "116421     276\n",
       "115722     252\n",
       "Name: author_id, dtype: int64"
      ]
     },
     "execution_count": 23,
     "metadata": {},
     "output_type": "execute_result"
    }
   ],
   "source": [
    "# The top 10 authors of inbound tweets.\n",
    "twcs_df['author_id'].loc[twcs_df['inbound']==True].value_counts().head(10)"
   ]
  },
  {
   "cell_type": "markdown",
   "id": "8ea62c7e",
   "metadata": {},
   "source": [
    "Next let us considered when the tweets were set."
   ]
  },
  {
   "cell_type": "code",
   "execution_count": 24,
   "id": "e953bb94",
   "metadata": {},
   "outputs": [
    {
     "data": {
      "text/plain": [
       "<AxesSubplot:xlabel='created_td'>"
      ]
     },
     "execution_count": 24,
     "metadata": {},
     "output_type": "execute_result"
    },
    {
     "data": {
      "image/png": "[encoded data removed]",
      "text/plain": [
       "<Figure size 432x288 with 1 Axes>"
      ]
     },
     "metadata": {
      "needs_background": "light"
     },
     "output_type": "display_data"
    }
   ],
   "source": [
    "twcs_df['created_td'].groupby([twcs_df['created_td'].dt.date]).count().plot()"
   ]
  },
  {
   "cell_type": "markdown",
   "id": "f2d8a537",
   "metadata": {},
   "source": [
    "Interesting 90% of the Tweets were sent in the last quarter of 2017."
   ]
  },
  {
   "cell_type": "code",
   "execution_count": 62,
   "id": "045e1cb6",
   "metadata": {},
   "outputs": [
    {
     "data": {
      "text/plain": [
       "AmazonHelp         847\n",
       "169172             385\n",
       "Safaricom_Care     354\n",
       "British_Airways    254\n",
       "hulu_support       204\n",
       "idea_cares         203\n",
       "AppleSupport       198\n",
       "Uber_Support       186\n",
       "SpotifyCares       182\n",
       "airtel_care        165\n",
       "Name: author_id, dtype: int64"
      ]
     },
     "execution_count": 62,
     "metadata": {},
     "output_type": "execute_result"
    }
   ],
   "source": [
    "# Top Tweeter before October 2017.\n",
    "twcs_df['author_id'].loc[twcs_df['created_td'] < '2017-10-01'].value_counts().head(10)"
   ]
  },
  {
   "cell_type": "code",
   "execution_count": 75,
   "id": "8577a827",
   "metadata": {},
   "outputs": [
    {
     "data": {
      "text/plain": [
       "<AxesSubplot:>"
      ]
     },
     "execution_count": 75,
     "metadata": {},
     "output_type": "execute_result"
    },
    {
     "data": {
      "image/png": "[encoded data removed]",
      "text/plain": [
       "<Figure size 432x288 with 1 Axes>"
      ]
     },
     "metadata": {
      "needs_background": "light"
     },
     "output_type": "display_data"
    }
   ],
   "source": [
    "twcs_df['author_id'].loc[twcs_df['created_td'] < '2017-10-01'].value_counts().head(10).plot.bar(x='word', y='count', rot=270)"
   ]
  },
  {
   "cell_type": "code",
   "execution_count": 63,
   "id": "74d822a5",
   "metadata": {},
   "outputs": [
    {
     "data": {
      "text/plain": [
       "AmazonHelp         168993\n",
       "AppleSupport       106662\n",
       "Uber_Support        56084\n",
       "SpotifyCares        43083\n",
       "Delta               42100\n",
       "Tesco               38446\n",
       "AmericanAir         36666\n",
       "TMobileHelp         34204\n",
       "comcastcares        32938\n",
       "British_Airways     29107\n",
       "Name: author_id, dtype: int64"
      ]
     },
     "execution_count": 63,
     "metadata": {},
     "output_type": "execute_result"
    }
   ],
   "source": [
    "# Top Tweeter including and after October 2017.\n",
    "twcs_df['author_id'].loc[twcs_df['created_td'] >= '2017-10-01'].value_counts().head(10)"
   ]
  },
  {
   "cell_type": "code",
   "execution_count": 76,
   "id": "801b337e",
   "metadata": {},
   "outputs": [
    {
     "data": {
      "text/plain": [
       "<AxesSubplot:>"
      ]
     },
     "execution_count": 76,
     "metadata": {},
     "output_type": "execute_result"
    },
    {
     "data": {
      "image/png": "[encoded data removed]",
      "text/plain": [
       "<Figure size 432x288 with 1 Axes>"
      ]
     },
     "metadata": {
      "needs_background": "light"
     },
     "output_type": "display_data"
    }
   ],
   "source": [
    "twcs_df['author_id'].loc[twcs_df['created_td'] >= '2017-10-01'].value_counts().head(10).plot.bar(x='word', y='count', rot=270)"
   ]
  },
  {
   "cell_type": "code",
   "execution_count": 27,
   "id": "e1ff21a4",
   "metadata": {},
   "outputs": [
    {
     "data": {
      "text/plain": [
       "<AxesSubplot:xlabel='created_td'>"
      ]
     },
     "execution_count": 27,
     "metadata": {},
     "output_type": "execute_result"
    },
    {
     "data": {
      "image/png": "[encoded data removed]",
      "text/plain": [
       "<Figure size 432x288 with 1 Axes>"
      ]
     },
     "metadata": {
      "needs_background": "light"
     },
     "output_type": "display_data"
    }
   ],
   "source": [
    "# When did the Tweets happen?\n",
    "twcs_df['author_id'].loc[twcs_df['created_td'] >= '2017-10-01'].loc[twcs_df['author_id'] == 'AmazonHelp'].groupby([twcs_df['created_td'].dt.date]).count().plot(rot=270)"
   ]
  },
  {
   "cell_type": "code",
   "execution_count": 31,
   "id": "167525fb",
   "metadata": {},
   "outputs": [
    {
     "data": {
      "image/png": "[encoded data removed]",
      "text/plain": [
       "<Figure size 432x288 with 1 Axes>"
      ]
     },
     "metadata": {
      "needs_background": "light"
     },
     "output_type": "display_data"
    }
   ],
   "source": [
    "# Who are the top 5 Tweeter in this time frame?\n",
    "import matplotlib.dates as mdates\n",
    "import matplotlib.pylab as plt\n",
    "import matplotlib as mpl\n",
    "temp_df = twcs_df.loc[twcs_df['created_td'] >= '2017-10-01']\n",
    "top_5 = temp_df['author_id'].value_counts().head().index.tolist()\n",
    "for i in top_5:\n",
    "    plt.plot(temp_df['author_id'].loc[temp_df['author_id'] == i ].groupby([temp_df['created_td'].dt.date]).count(), label = i )\n",
    "    plt.legend(loc='center left', bbox_to_anchor=(1, 0.5))\n",
    "    plt.xticks(rotation = 270)"
   ]
  },
  {
   "cell_type": "code",
   "execution_count": 92,
   "id": "429820ad",
   "metadata": {},
   "outputs": [
    {
     "data": {
      "text/html": [
       "<div>\n",
       "<style scoped>\n",
       "    .dataframe tbody tr th:only-of-type {\n",
       "        vertical-align: middle;\n",
       "    }\n",
       "\n",
       "    .dataframe tbody tr th {\n",
       "        vertical-align: top;\n",
       "    }\n",
       "\n",
       "    .dataframe thead th {\n",
       "        text-align: right;\n",
       "    }\n",
       "</style>\n",
       "<table border=\"1\" class=\"dataframe\">\n",
       "  <thead>\n",
       "    <tr style=\"text-align: right;\">\n",
       "      <th></th>\n",
       "      <th>author_id</th>\n",
       "      <th>count</th>\n",
       "    </tr>\n",
       "  </thead>\n",
       "  <tbody>\n",
       "    <tr>\n",
       "      <th>0</th>\n",
       "      <td>AmazonHelp</td>\n",
       "      <td>168993</td>\n",
       "    </tr>\n",
       "    <tr>\n",
       "      <th>1</th>\n",
       "      <td>AppleSupport</td>\n",
       "      <td>106662</td>\n",
       "    </tr>\n",
       "    <tr>\n",
       "      <th>2</th>\n",
       "      <td>Uber_Support</td>\n",
       "      <td>56084</td>\n",
       "    </tr>\n",
       "    <tr>\n",
       "      <th>3</th>\n",
       "      <td>SpotifyCares</td>\n",
       "      <td>43083</td>\n",
       "    </tr>\n",
       "    <tr>\n",
       "      <th>4</th>\n",
       "      <td>Delta</td>\n",
       "      <td>42100</td>\n",
       "    </tr>\n",
       "    <tr>\n",
       "      <th>5</th>\n",
       "      <td>all others</td>\n",
       "      <td>2374039</td>\n",
       "    </tr>\n",
       "  </tbody>\n",
       "</table>\n",
       "</div>"
      ],
      "text/plain": [
       "      author_id    count\n",
       "0    AmazonHelp   168993\n",
       "1  AppleSupport   106662\n",
       "2  Uber_Support    56084\n",
       "3  SpotifyCares    43083\n",
       "4         Delta    42100\n",
       "5    all others  2374039"
      ]
     },
     "execution_count": 92,
     "metadata": {},
     "output_type": "execute_result"
    }
   ],
   "source": [
    "# top 5 compared to all other Tweeters\n",
    "tweets_df  = pd.DataFrame( columns=['author_id','count'])\n",
    "for i in top_5:\n",
    "    tweets_df.loc[len(tweets_df.index)] = [i, temp_df['author_id'].loc[temp_df['author_id'] == i ].count()] \n",
    "\n",
    "tweets_df.loc[len(tweets_df.index)] = [ 'all others', temp_df['author_id'].count() - tweets_df['count'].sum() ]\n",
    "tweets_df\n",
    "    "
   ]
  },
  {
   "cell_type": "code",
   "execution_count": 94,
   "id": "52fd2db2",
   "metadata": {},
   "outputs": [
    {
     "data": {
      "image/png": "[encoded data removed]",
      "text/plain": [
       "<Figure size 432x288 with 1 Axes>"
      ]
     },
     "metadata": {},
     "output_type": "display_data"
    }
   ],
   "source": [
    "labels = tweets_df['author_id'].unique()\n",
    "sizes = tweets_df['count']\n",
    "\n",
    "plt.pie(sizes, labels=labels, autopct='%1.1f%%', shadow=True, startangle=140) \n",
    "plt.axis('equal')\n",
    "plt.show()"
   ]
  },
  {
   "cell_type": "code",
   "execution_count": 61,
   "id": "532fe382",
   "metadata": {},
   "outputs": [
    {
     "data": {
      "text/plain": [
       "Friday       449070\n",
       "Wednesday    442694\n",
       "Thursday     436755\n",
       "Tuesday      420282\n",
       "Monday       385449\n",
       "Saturday     329215\n",
       "Sunday       327496\n",
       "Name: created_td, dtype: int64"
      ]
     },
     "execution_count": 61,
     "metadata": {},
     "output_type": "execute_result"
    }
   ],
   "source": [
    "# Tweet frequency by day of the week\n",
    "temp_df['created_td'].dt.day_name().value_counts()"
   ]
  },
  {
   "cell_type": "code",
   "execution_count": 73,
   "id": "eada43c5",
   "metadata": {},
   "outputs": [
    {
     "data": {
      "image/png": "[encoded data removed]",
      "text/plain": [
       "<Figure size 432x288 with 1 Axes>"
      ]
     },
     "metadata": {},
     "output_type": "display_data"
    }
   ],
   "source": [
    "dayofweek = pd.value_counts(temp_df['created_td'].dt.day_name().values, sort=True)\n",
    "labels = temp_df['created_td'].dt.day_name().unique()\n",
    "sizes = dayofweek\n",
    "\n",
    "plt.pie(sizes, labels=labels, autopct='%1.1f%%', shadow=True, startangle=140) \n",
    "plt.axis('equal')\n",
    "plt.show()"
   ]
  },
  {
   "cell_type": "code",
   "execution_count": 74,
   "id": "32d52e6f",
   "metadata": {},
   "outputs": [
    {
     "data": {
      "text/plain": [
       "<AxesSubplot:>"
      ]
     },
     "execution_count": 74,
     "metadata": {},
     "output_type": "execute_result"
    },
    {
     "data": {
      "image/png": "[encoded data removed]",
      "text/plain": [
       "<Figure size 432x288 with 1 Axes>"
      ]
     },
     "metadata": {
      "needs_background": "light"
     },
     "output_type": "display_data"
    }
   ],
   "source": [
    "temp_df['created_td'].dt.day_name().value_counts().plot.bar(x='word', y='count', rot=270)"
   ]
  },
  {
   "cell_type": "code",
   "execution_count": null,
   "id": "7e637007",
   "metadata": {},
   "outputs": [],
   "source": []
  }
 ],
 "metadata": {
  "kernelspec": {
   "display_name": "Python 3 (ipykernel)",
   "language": "python",
   "name": "python3"
  },
  "language_info": {
   "codemirror_mode": {
    "name": "ipython",
    "version": 3
   },
   "file_extension": ".py",
   "mimetype": "text/x-python",
   "name": "python",
   "nbconvert_exporter": "python",
   "pygments_lexer": "ipython3",
   "version": "3.9.12"
  }
 },
 "nbformat": 4,
 "nbformat_minor": 5
}
